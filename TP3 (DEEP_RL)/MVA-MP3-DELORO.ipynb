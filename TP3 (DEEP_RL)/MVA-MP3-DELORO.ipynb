{
 "cells": [
  {
   "cell_type": "markdown",
   "metadata": {},
   "source": [
    "**You may need to install [OpenCV](https://pypi.python.org/pypi/opencv-python) and [scikit-video](http://www.scikit-video.org/stable/).**"
   ]
  },
  {
   "cell_type": "code",
   "execution_count": 60,
   "metadata": {},
   "outputs": [],
   "source": [
    "import keras\n",
    "import numpy as np\n",
    "import io\n",
    "import base64\n",
    "from IPython.display import HTML\n",
    "import skvideo.io\n",
    "import cv2\n",
    "import json\n",
    "\n",
    "from keras.models import Sequential,model_from_json\n",
    "from keras.layers.core import Dense\n",
    "from keras.optimizers import sgd\n",
    "from keras.layers import Conv2D, MaxPooling2D, Activation, AveragePooling2D,Reshape,BatchNormalization\n",
    "\n",
    "from keras.optimizers import Adam\n",
    "from keras.layers.core import Flatten\n",
    "\n",
    "from keras.utils.np_utils import to_categorical\n",
    "from keras.callbacks import EarlyStopping\n",
    "\n",
    "import matplotlib.pyplot as plt"
   ]
  },
  {
   "cell_type": "markdown",
   "metadata": {},
   "source": [
    "# MiniProject #3: Deep Reinforcement Learning\n",
    "\n",
    "### Student : Yonatan DELORO \n",
    "### Contact : yonatan.deloro@eleves.enpc.fr\n",
    "\n",
    "** Note ** : For this practical, for clearness purposes, I preferred to write the answers to any of the questions just after them, even if the experiments showing the evidence are below."
   ]
  },
  {
   "cell_type": "markdown",
   "metadata": {},
   "source": [
    "__Notations__: $E_p$ is the expectation under probability $p$. Please justify each of your answer and widely comment your code."
   ]
  },
  {
   "cell_type": "markdown",
   "metadata": {},
   "source": [
    "# Context"
   ]
  },
  {
   "cell_type": "markdown",
   "metadata": {},
   "source": [
    "In a reinforcement learning algorithm, we modelize each step $t$ as an action $a_t$ obtained from a state $s_t$, i.e. $\\{(a_{t},s_{t})_{t\\leq T}\\}$ having the Markov property. We consider a discount factor $\\gamma \\in [0,1]$ that ensures convergence. The goal is to find among all the policies $\\pi$, one that maximizes the expected reward:\n",
    "\n",
    "\\begin{equation*}\n",
    "R(\\pi)=\\sum_{t\\leq T}E_{p^{\\pi}}[\\gamma^t r(s_{t},a_{t})] \\> ,\n",
    "\\end{equation*}\n",
    "\n",
    "where: \n",
    "\\begin{equation*}p^{\\pi}(a_{0},a_{1},s_{1},...,a_{T},s_{T})=p(a_{0})\\prod_{t=1}^{T}\\pi(a_{t}|s_{t})p(s_{t+1}|s_{t},a_{t}) \\> .\n",
    "\\end{equation*}\n",
    "\n",
    "[Note : I assumed there was a small typo in the indices here, and rewrote : \n",
    "\n",
    "\\begin{equation*}p^{\\pi}(a_{0},s_{1},a_{1},s_{2},...,s_{T-1},a_{T-1},s_{T})= \\prod_{t=0}^{T-1}\\pi(a_{t}|s_{t})p(s_{t+1}|s_{t},a_{t}) \\> .\n",
    "\\end{equation*}\n",
    "\n",
    "where $s_0$ denotes the initial state.]\n",
    "\n",
    "We note the $Q$-function:\n",
    "\n",
    "\\begin{equation*}Q^\\pi(s,a)=E_{p^{\\pi}}[\\sum_{t\\leq T}\\gamma^{t}r(s_{t},a_{t})|s_{0}=s,a_{0}=a] \\> .\n",
    "\\end{equation*}\n",
    "\n",
    "Thus, the optimal Q function is:\n",
    "\\begin{equation*}\n",
    "Q^*(s,a)=\\max_{\\pi}Q^\\pi(s,a) \\> .\n",
    "\\end{equation*}\n",
    "\n",
    "In this project, we will apply the deep reinforcement learning techniques to a simple game: an agent will have to learn from scratch a policy that will permit it maximizing a reward."
   ]
  },
  {
   "cell_type": "markdown",
   "metadata": {},
   "source": [
    "## The environment, the agent and the game"
   ]
  },
  {
   "cell_type": "markdown",
   "metadata": {},
   "source": [
    "### The environment"
   ]
  },
  {
   "cell_type": "markdown",
   "metadata": {},
   "source": [
    "```Environment``` is an abstract class that represents the states, rewards, and actions to obtain the new state."
   ]
  },
  {
   "cell_type": "code",
   "execution_count": 61,
   "metadata": {},
   "outputs": [],
   "source": [
    "class Environment(object):\n",
    "    def __init__(self):\n",
    "        pass\n",
    "\n",
    "    def act(self, act):\n",
    "        \"\"\"\n",
    "        One can act on the environment and obtain its reaction:\n",
    "        - the new state\n",
    "        - the reward of the new state\n",
    "        - should we continue the game?\n",
    "\n",
    "        :return: state, reward, game_over\n",
    "        \"\"\"\n",
    "        pass\n",
    "\n",
    "\n",
    "    def reset(self):\n",
    "        \"\"\"\n",
    "        Reinitialize the environment to a random state and returns\n",
    "        the original state\n",
    "\n",
    "        :return: state\n",
    "        \"\"\"\n",
    "        pass\n",
    "    \n",
    "    def draw(self):\n",
    "        \"\"\"\n",
    "        Visualize in the console or graphically the current state\n",
    "        \"\"\"\n",
    "        pass"
   ]
  },
  {
   "cell_type": "markdown",
   "metadata": {},
   "source": [
    "The method ```act``` allows to act on the environment at a given state $s_t$ (stored internally), via action $a_t$. The method will return the new state $s_{t+1}$, the reward $r(s_{t},a_{t})$ and determines if $t\\leq T$ (*game_over*).\n",
    "\n",
    "The method ```reset``` simply reinitializes the environment to a random state $s_0$.\n",
    "\n",
    "The method ```draw``` displays the current state $s_t$ (this is useful to check the behavior of the Agent).\n",
    "\n",
    "We modelize $s_t$ as a tensor, while $a_t$ is an integer."
   ]
  },
  {
   "cell_type": "markdown",
   "metadata": {},
   "source": [
    "### The Agent"
   ]
  },
  {
   "cell_type": "markdown",
   "metadata": {},
   "source": [
    "The goal of the ```Agent``` is to interact with the ```Environment``` by proposing actions $a_t$ obtained from a given state $s_t$ to attempt to maximize its __reward__ $r(s_t,a_t)$. We propose the following abstract class:"
   ]
  },
  {
   "cell_type": "code",
   "execution_count": 62,
   "metadata": {},
   "outputs": [],
   "source": [
    "class Agent(object):\n",
    "    def __init__(self, epsilon=0.1, n_action=4):\n",
    "        self.epsilon = epsilon\n",
    "        self.n_action = n_action\n",
    "    \n",
    "    def set_epsilon(self,e):\n",
    "        self.epsilon = e\n",
    "\n",
    "    def act(self,s,train=True):\n",
    "        \"\"\" This function should return the next action to do:\n",
    "        an integer between 0 and 4 (not included) with a random exploration of epsilon\"\"\"\n",
    "        if train:\n",
    "            if np.random.rand() <= self.epsilon:\n",
    "                a = np.random.randint(0, self.n_action, size=1)[0]\n",
    "            else:\n",
    "                a = self.learned_act(s)\n",
    "        else:\n",
    "            a = self.learned_act(s)\n",
    "\n",
    "        return a\n",
    "\n",
    "    def learned_act(self,s):\n",
    "        \"\"\" Act via the policy of the agent, from a given state s\n",
    "        it proposes an action a\"\"\"\n",
    "        pass\n",
    "\n",
    "    def reinforce(self, s, n_s, a, r, game_over_):\n",
    "        \"\"\" This function is the core of the learning algorithm. \n",
    "        It takes as an input the current state s_, the next state n_s_\n",
    "        the action a_ used to move from s_ to n_s_ and the reward r_.\n",
    "        \n",
    "        Its goal is to learn a policy.\n",
    "        \"\"\"\n",
    "        pass\n",
    "\n",
    "    def save(self):\n",
    "        \"\"\" This function returns basic stats if applicable: the\n",
    "        loss and/or the model\"\"\"\n",
    "        pass\n",
    "\n",
    "    def load(self):\n",
    "        \"\"\" This function allows to restore a model\"\"\"\n",
    "        pass"
   ]
  },
  {
   "cell_type": "markdown",
   "metadata": {},
   "source": [
    "***\n",
    "__Question 1__:\n",
    "Explain the function act. Why is ```epsilon``` essential?"
   ]
  },
  {
   "cell_type": "markdown",
   "metadata": {},
   "source": [
    "> - At train time (train = True) : With a probability $\\epsilon$, the agent chooses an action uniformly at random (exploration of the environment). Otherwise (with a probability $1-\\epsilon$) it chooses the action maximizing the expected cumulative reward from his current state $s$, ie. the action $a$ such that the Q-value of the pair $(s,a)$ is maximal (exploitation of the currently learnt policy). \n",
    "\n",
    "> - At test time  (train = False) : The agent follows the learnt policy, ie. chooses the action maximizing the expected cumulative reward from his current state $s$, ie. the action $a$ such that the Q-value of the pair $(s,a)$ is maximal (only exploitation).\n",
    "\n",
    "> - $\\epsilon$ is essential as it **tradeoffs between exploration of the environment and exploitation of the learnt policy throughout the agent training**. Indeed, if the agent only exploited ($\\epsilon=1$), it would obviously never access to some potentially more interesting states than the currently exploited ones, as it would never update the Q-values of some pairs (state, action). At the opposite, if the the agent only explored ($\\epsilon=0$), the agent would probably need an enormous amount of time to assess any pair (state,action) especially if positive rewards are delayed (several moves are needed to reach a positive reward) : thus the agent would learn very slowly, and even worse if the game is over at the end of short horizon. A current practice, we will implement in Q10, is to begin with a high $\\epsilon$ and to decrease it throughout the training (we want to favor exploitation over exploration as the agent learns in the environment)."
   ]
  },
  {
   "cell_type": "markdown",
   "metadata": {},
   "source": [
    "***\n",
    "### The Game"
   ]
  },
  {
   "cell_type": "markdown",
   "metadata": {},
   "source": [
    "The ```Agent``` and the ```Environment``` work in an interlaced way as in the following (take some time to understand this code as it is the core of the project)\n",
    "\n",
    "```python\n",
    "\n",
    "epoch = 300\n",
    "env = Environment()\n",
    "agent = Agent()\n",
    "\n",
    "\n",
    "# Number of won games\n",
    "score = 0\n",
    "loss = 0\n",
    "\n",
    "\n",
    "for e in range(epoch):\n",
    "    # At each epoch, we restart to a fresh game and get the initial state\n",
    "    state = env.reset()\n",
    "    # This assumes that the games will end\n",
    "    game_over = False\n",
    "\n",
    "    win = 0\n",
    "    lose = 0\n",
    "    \n",
    "    while not game_over:\n",
    "        # The agent performs an action\n",
    "        action = agent.act(state)\n",
    "\n",
    "        # Apply an action to the environment, get the next state, the reward\n",
    "        # and if the games end\n",
    "        prev_state = state\n",
    "        state, reward, game_over = env.act(action)\n",
    "\n",
    "        # Update the counters\n",
    "        if reward > 0:\n",
    "            win = win + reward\n",
    "        if reward < 0:\n",
    "            lose = lose -reward\n",
    "\n",
    "        # Apply the reinforcement strategy\n",
    "        loss = agent.reinforce(prev_state, state,  action, reward, game_over)\n",
    "\n",
    "    # Save as a mp4\n",
    "    if e % 10 == 0:\n",
    "        env.draw(e)\n",
    "\n",
    "    # Update stats\n",
    "    score += win-lose\n",
    "\n",
    "    print(\"Epoch {:03d}/{:03d} | Loss {:.4f} | Win/lose count {}/{} ({})\"\n",
    "          .format(e, epoch, loss, win, lose, win-lose))\n",
    "    agent.save()\n",
    "```"
   ]
  },
  {
   "cell_type": "markdown",
   "metadata": {},
   "source": [
    "# The game, *eat cheese*"
   ]
  },
  {
   "cell_type": "markdown",
   "metadata": {},
   "source": [
    "A rat runs on an island and tries to eat as much as possible. The island is subdivided into $N\\times N$ cells, in which there are cheese (+0.5) and poisonous cells (-1). The rat has a visibility of 2 cells (thus it can see $5^2$ cells). The rat is given a time $T$ to accumulate as much food as possible. It can perform 4 actions: going up, down, left, right. \n",
    "\n",
    "The goal is to code an agent to solve this task that will learn by trial and error. We propose the following environment:"
   ]
  },
  {
   "cell_type": "code",
   "execution_count": 63,
   "metadata": {},
   "outputs": [],
   "source": [
    "class Environment(object):\n",
    "    def __init__(self, grid_size=10, max_time=500, temperature=0.1):\n",
    "        grid_size = grid_size+4\n",
    "        self.grid_size = grid_size\n",
    "        self.max_time = max_time\n",
    "        self.temperature = temperature\n",
    "\n",
    "        # board on which one plays\n",
    "        self.board = np.zeros((grid_size,grid_size))\n",
    "        self.position = np.zeros((grid_size,grid_size))\n",
    "\n",
    "        # coordinate of the cat\n",
    "        self.x = 0\n",
    "        self.y = 1\n",
    "\n",
    "        # self time\n",
    "        self.t = 0\n",
    "\n",
    "        self.scale=16\n",
    "\n",
    "        self.to_draw = np.zeros((max_time+2, grid_size*self.scale, grid_size*self.scale, 3))\n",
    "\n",
    "\n",
    "    def draw(self,e):\n",
    "        skvideo.io.vwrite(str(e) + '.mp4', self.to_draw)\n",
    "\n",
    "    def get_frame(self,t):\n",
    "        b = np.zeros((self.grid_size,self.grid_size,3))+128\n",
    "        b[self.board>0,0] = 256\n",
    "        b[self.board < 0, 2] = 256\n",
    "        b[self.x,self.y,:]=256\n",
    "        b[-2:,:,:]=0\n",
    "        b[:,-2:,:]=0\n",
    "        b[:2,:,:]=0\n",
    "        b[:,:2,:]=0 #fixed typo\n",
    "        \n",
    "        b =  cv2.resize(b, None, fx=self.scale, fy=self.scale, interpolation=cv2.INTER_NEAREST)\n",
    "\n",
    "        self.to_draw[t,:,:,:]=b\n",
    "\n",
    "\n",
    "    def act(self, action):\n",
    "        \"\"\"This function returns the new state, reward and decides if the\n",
    "        game ends.\"\"\"\n",
    "\n",
    "        self.get_frame(int(self.t))\n",
    "\n",
    "        self.position = np.zeros((self.grid_size, self.grid_size))\n",
    "\n",
    "        self.position[0:2,:]= -1\n",
    "        self.position[:,0:2] = -1\n",
    "        self.position[-2:, :] = -1\n",
    "        self.position[:, -2:] = -1  #fixed typo\n",
    "\n",
    "        self.position[self.x, self.y] = 1\n",
    "        if action == 0:\n",
    "            if self.x == self.grid_size-3:\n",
    "                self.x = self.x -1\n",
    "            else:\n",
    "                self.x = self.x + 1\n",
    "        elif action == 1:\n",
    "            if self.x == 2:\n",
    "                self.x = self.x +1\n",
    "            else:\n",
    "                self.x = self.x - 1\n",
    "        elif action == 2:\n",
    "            if self.y == self.grid_size - 3:\n",
    "                self.y = self.y - 1\n",
    "            else:\n",
    "                self.y = self.y + 1\n",
    "        elif action == 3:\n",
    "            if self.y == 2:\n",
    "                self.y = self.y + 1\n",
    "            else:\n",
    "                self.y = self.y - 1\n",
    "        else:\n",
    "            RuntimeError('Error: action not recognized')\n",
    "\n",
    "        self.t = self.t + 1\n",
    "        reward = self.board[self.x, self.y]\n",
    "        self.board[self.x, self.y] = 0\n",
    "        game_over = self.t > self.max_time\n",
    "        state = np.concatenate((self.board.reshape(self.grid_size, self.grid_size,1),\n",
    "                        self.position.reshape(self.grid_size, self.grid_size,1)),axis=2)\n",
    "        state = state[self.x-2:self.x+3,self.y-2:self.y+3,:]\n",
    "        \n",
    "        return state, reward, game_over\n",
    "\n",
    "    def reset(self):\n",
    "        \"\"\"This function resets the game and returns the initial state\"\"\"\n",
    "\n",
    "        self.x = np.random.randint(3, self.grid_size-3, size=1)[0]\n",
    "        self.y = np.random.randint(3, self.grid_size-3, size=1)[0]\n",
    "\n",
    "\n",
    "        bonus = 0.5*np.random.binomial(1,self.temperature,size=self.grid_size**2)\n",
    "        bonus = bonus.reshape(self.grid_size,self.grid_size)\n",
    "\n",
    "        malus = -1.0*np.random.binomial(1,self.temperature,size=self.grid_size**2)\n",
    "        malus = malus.reshape(self.grid_size, self.grid_size)\n",
    "\n",
    "        self.to_draw = np.zeros((self.max_time+2, self.grid_size*self.scale, self.grid_size*self.scale, 3))\n",
    "\n",
    "\n",
    "        malus[bonus>0]=0\n",
    "\n",
    "        self.board = bonus + malus\n",
    "\n",
    "        self.position = np.zeros((self.grid_size, self.grid_size))\n",
    "        self.position[0:2,:]= -1\n",
    "        self.position[:,0:2] = -1\n",
    "        self.position[-2:, :] = -1\n",
    "        self.position[:, -2:] = -1\n",
    "        \n",
    "        self.board[self.x,self.y] = 0\n",
    "        self.board[self.position < 0] = 0 #I added this line  (cf. justification below)\n",
    "        \n",
    "        self.t = 0\n",
    "\n",
    "        state = np.concatenate((\n",
    "                               self.board.reshape(self.grid_size, self.grid_size,1),\n",
    "                        self.position.reshape(self.grid_size, self.grid_size,1)),axis=2)\n",
    "\n",
    "        state = state[self.x - 2:self.x + 3, self.y - 2:self.y + 3, :]\n",
    "        return state"
   ]
  },
  {
   "cell_type": "markdown",
   "metadata": {},
   "source": [
    "The following elements are important because they correspond to the hyper parameters for this project:"
   ]
  },
  {
   "cell_type": "code",
   "execution_count": 64,
   "metadata": {},
   "outputs": [],
   "source": [
    "# parameters\n",
    "size = 13\n",
    "T=200\n",
    "temperature= 0.3 \n",
    "epochs_train=101 # set small when debugging\n",
    "epochs_test=11  # set small when debugging\n",
    "\n",
    "# display videos\n",
    "def display_videos(name):\n",
    "    video = io.open(name, 'r+b').read()\n",
    "    encoded = base64.b64encode(video)\n",
    "    return '''<video alt=\"test\" controls>\n",
    "                <source src=\"data:video/mp4;base64,{0}\" type=\"video/mp4\" />\n",
    "             </video>'''.format(encoded.decode('ascii'))"
   ]
  },
  {
   "cell_type": "markdown",
   "metadata": {},
   "source": [
    "__Question 2__ Explain the use of the arrays ```position``` and ```board```."
   ]
  },
  {
   "cell_type": "markdown",
   "metadata": {},
   "source": [
    "> - The array position gives to the rat the information of where it can go among the cells it sees (0 if the cell is accessible, -1 if not (boundary), and 1 if the rat is already in the cell).\n",
    "\n",
    "> - The array board gives to the rat the rewards present in each cell he can see (value of 0.5 if there is a cheese in the cell, of -1 if it is a poison, 0 if there is nothing). \n",
    "\n",
    "> Note : I modified two things in the code : first, i added the border at the right of the board (missing) ; secondly, i removed any cheese/poison in the boundary areas.\n",
    "\n",
    "#finally, i decided to remove the bouncing effects of the rat on the borders (now the rat stays in the same position if it can't go in the action direction because of a border.  Indeed, otherwise, it would have receive a wrong feedback given the potential reward in the cell of arrival)."
   ]
  },
  {
   "cell_type": "markdown",
   "metadata": {},
   "source": [
    "## Random Agent"
   ]
  },
  {
   "cell_type": "markdown",
   "metadata": {},
   "source": [
    "***\n",
    "__Question 3__ Implement a random Agent (only ```learned_act``` needs to be implemented):"
   ]
  },
  {
   "cell_type": "code",
   "execution_count": 65,
   "metadata": {},
   "outputs": [],
   "source": [
    "class RandomAgent(Agent):\n",
    "    def __init__(self):\n",
    "        super(RandomAgent, self).__init__()\n",
    "        pass\n",
    "\n",
    "    def learned_act(self, s):\n",
    "        return np.random.randint(0, self.n_action)"
   ]
  },
  {
   "cell_type": "markdown",
   "metadata": {},
   "source": [
    "***\n",
    "***\n",
    "__Question 4__ Visualize the game moves. You need to fill in the following function for the evaluation:"
   ]
  },
  {
   "cell_type": "code",
   "execution_count": 66,
   "metadata": {},
   "outputs": [],
   "source": [
    "def test(agent,env,epochs,prefix='',return_trajectories=False):\n",
    "    \n",
    "    if return_trajectories:\n",
    "        trajectories = []\n",
    "        \n",
    "    score = 0\n",
    "        \n",
    "    for e in range(epochs):\n",
    "                \n",
    "        # At each epoch, we restart to a fresh game and get the initial state\n",
    "        state = env.reset()\n",
    "        # This assumes that the games will end\n",
    "        game_over = False\n",
    "\n",
    "        win = 0\n",
    "        lose = 0\n",
    "\n",
    "        while not game_over:\n",
    "                        \n",
    "            # The agent performs an action\n",
    "            action = agent.act(state, train=False)\n",
    "            \n",
    "            # Apply an action to the environment, get the next state, the reward\n",
    "            prev_state = state\n",
    "            state, reward, game_over = env.act(action)\n",
    "            \n",
    "            if return_trajectories:\n",
    "                trajectories.append((prev_state,action))\n",
    "\n",
    "            # Update the counters\n",
    "            if reward > 0:\n",
    "                win = win + reward\n",
    "            if reward < 0:\n",
    "                lose = lose - reward\n",
    "        \n",
    "        # Save as a mp4\n",
    "        env.draw(prefix+str(e))\n",
    "\n",
    "        # Update stats\n",
    "        score_episode = 0.5*win-lose #modified the score metric (cheese worth 1/2, poison -1)\n",
    "        score += score_episode\n",
    "\n",
    "        print(\"Win/lose count {}/{}. Average score ({})\"\n",
    "              .format(win, lose, score/(1+e)))\n",
    "    print('Final score: '+str(score/epochs))\n",
    "    \n",
    "    if return_trajectories:\n",
    "        return trajectories"
   ]
  },
  {
   "cell_type": "markdown",
   "metadata": {},
   "source": [
    "Note : As score measure, I used 0.5*win - lose instead of win-lose since poison give a reward of -1 while cheese 0.5."
   ]
  },
  {
   "cell_type": "code",
   "execution_count": 67,
   "metadata": {},
   "outputs": [
    {
     "name": "stdout",
     "output_type": "stream",
     "text": [
      "Win/lose count 10.5/9.0. Average score (-3.75)\n",
      "Win/lose count 7.0/12.0. Average score (-6.125)\n",
      "Win/lose count 12.0/20.0. Average score (-8.75)\n",
      "Win/lose count 10.5/14.0. Average score (-8.75)\n",
      "Win/lose count 9.5/20.0. Average score (-10.05)\n",
      "Win/lose count 5.5/7.0. Average score (-9.083333333333334)\n",
      "Win/lose count 19.5/10.0. Average score (-7.821428571428571)\n",
      "Win/lose count 7.5/15.0. Average score (-8.25)\n",
      "Win/lose count 9.5/17.0. Average score (-8.694444444444445)\n",
      "Win/lose count 10.0/14.0. Average score (-8.725)\n",
      "Win/lose count 11.0/19.0. Average score (-9.159090909090908)\n",
      "Final score: -9.159090909090908\n"
     ]
    },
    {
     "data": {
      "text/html": [
       "<video alt=\"test\" controls>\n",
       "                <source src=\"data:video/mp4;base64,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\" type=\"video/mp4\" />\n",
       "             </video>"
      ],
      "text/plain": [
       "<IPython.core.display.HTML object>"
      ]
     },
     "execution_count": 67,
     "metadata": {},
     "output_type": "execute_result"
    }
   ],
   "source": [
    "# Initialize the game\n",
    "env = Environment(grid_size=size, max_time=T,temperature=temperature)\n",
    "\n",
    "# Initialize the agent!\n",
    "agent = RandomAgent()\n",
    "\n",
    "test(agent,env,epochs_test,prefix='random')\n",
    "HTML(display_videos('random0.mp4'))"
   ]
  },
  {
   "cell_type": "markdown",
   "metadata": {},
   "source": [
    "***\n",
    "## DQN"
   ]
  },
  {
   "cell_type": "markdown",
   "metadata": {},
   "source": [
    "Let us assume here that $T=\\infty$.\n",
    "\n",
    "***\n",
    "__Question 5__ Let $\\pi$ be a policy, show that:\n",
    "\n",
    "\\begin{equation*}\n",
    "Q^{\\pi}(s,a)=E_{(s',a')\\sim p(.|s,a)}[r(s,a)+\\gamma Q^{\\pi}(s',a')]\n",
    "\\end{equation*}\n",
    "\n",
    "Then, show that for the optimal policy $\\pi^*$ (we assume its existence), the following holds: \n",
    "\n",
    "\\begin{equation*}\n",
    "Q^{*}(s,a)=E_{s'\\sim \\pi^*(.|s,a)}[r(s,a)+\\gamma\\max_{a'}Q^{*}(s',a')].\n",
    "\\end{equation*}\n",
    "Finally, deduce that a plausible objective is:\n",
    "\n",
    "\\begin{equation*}\n",
    "\\mathcal{L}(\\theta)=E_{s' \\sim \\pi^*(.|s,a)}\\Vert r+\\gamma\\max\\max_{a'}Q(s',a',\\theta)-Q(s,a,\\theta)\\Vert^{2}.\n",
    "\\end{equation*}"
   ]
  },
  {
   "cell_type": "markdown",
   "metadata": {},
   "source": [
    "> **My answer** :\n",
    "\n",
    "> I assumed there were small typos in the assertions to prove. Let us rewrite the question first : \n",
    "\n",
    "> 1. Let $\\pi$ be a policy, show that: \\begin{equation*}\n",
    "Q^{\\pi}(s,a)=E_{s'\\sim p(.|s,a), ~a' \\sim \\pi(.|s')}[r(s,a)+\\gamma Q^{\\pi}(s',a')]\n",
    "\\end{equation*}\n",
    "\n",
    "> 2. Then, show that for the optimal policy $\\pi^*$ (we assume its existence), the following holds:  \\begin{equation*}\n",
    "Q^{*}(s,a)=E_{s'\\sim p(.|s,a)}[r(s,a)+\\gamma \\max_{a'} Q^{*}(s',a')]\n",
    "\\end{equation*}\n",
    "\n",
    "> 3. Finally, deduce that a plausible objective is:\n",
    "\\begin{equation*}\n",
    "\\mathcal{L}(\\theta)=E_{s' \\sim p(.|s,a)}\\Vert r(s,a) +\\gamma \\max_{a'}Q(s',a',\\theta)-Q(s,a,\\theta)\\Vert^{2}\n",
    "\\end{equation*}\n",
    "\n",
    "\n",
    "***\n",
    "\n",
    "> **Question 1**\n",
    "\n",
    "> $Q^{\\pi}(s,a)$ is defined as the expected cumulative reward over trajectories beginning in state $s$ with action $a$ and following policy $\\pi$. We can rewrite it as :\n",
    "\n",
    "\n",
    "> \\begin{align} Q^\\pi(s,a) &=E_{p^{\\pi}}[\\sum_{t\\leq T}\\gamma^{t}r(s_{t},a_{t})|s_{0}=s,a_{0}=a]\n",
    "\\\\ &= r(s, a) + \\gamma E_{p^{\\pi}}[\\sum_{1 \\leq t \\leq T} \\gamma^{t - 1} r(s_t,a_t)|s_0=s,a_0=a] \n",
    "\\\\ &= r(s, a) + \\gamma \\sum_{s'} \\mathbb{P}(s_1 = s' | s_0 = s,a_0=a) \\sum_{a'} \\pi(a'|s') E_{p^{\\pi}}[\\sum_{1 \\leq t \\leq T} \\gamma^{t - 1} r(s_t,a_t)|s_1=s',a_1=a']\n",
    "\\\\ &= r(s, a) + \\gamma \\sum_{s'}  p(s'|s,a)  \\sum_{a'} \\pi(a'|s') E_{p^{\\pi}}[\\sum_{0 \\leq t \\leq T-1} \\gamma^{t} r(s_t,a_t)|s_0=s',a_0=a'] \\\\\n",
    " & = r(s,a) + \\gamma \\sum_{s'} p(s'|s,a) \\sum_{a'} \\pi(a'|s')  Q^{\\pi}(s',a')\\end{align}\n",
    "\n",
    "\n",
    "> This is the so-called Bellman equation (which tells that the expected discounted cumulative reward in state $s$ taking action $a$ is the sum of the immediate reward $r(s,a)$ and of the expectation of the discounted cumulative reward over all new reachable state $s' \\sim p(.|s,a)$ and taking action from state $s'$ following the policy $\\pi$ (ie. choosing $a' \\sim \\pi(.|s')$)).\n",
    "\n",
    "> Then, $$\\begin{align}\n",
    "Q^{\\pi}(s,a)& = r(s,a) + \\gamma \\sum_{s'} p(s'|s,a) \\sum_{a'} \\pi(a'|s')  Q^{\\pi}(s',a') \\\\\n",
    "&= \\sum_{s'} p(s'|s,a) \\left( r(s,a) + \\gamma \\sum_{a'} \\pi(a'|s')  Q^{\\pi}(s',a')\\right) \\\\\n",
    "&= \\sum_{s'} p(s'|s,a) \\sum_{a'} \\pi(a'|s')  \\left( r(s,a) + \\gamma Q^{\\pi}(s',a') \\right) \\\\\n",
    "&=E_{s'\\sim p(.|s,a), ~a' \\sim \\pi(.|s')}[r(s,a)+\\gamma Q^{\\pi}(s',a')].\n",
    "\\end{align}$$ \n",
    "\n",
    "\n",
    "***\n",
    "\n",
    "> **Question 2**\n",
    "\n",
    "\n",
    "> Denoting $Q^{*} = Q^{\\pi^*}$ the state-action value function associated to the optimal policy, \n",
    "\n",
    "$$\\begin{align}\n",
    "Q^{*}(s,a) &= E_{s'\\sim p(.|s,a), ~a' \\sim \\pi(.|s')}[r(s,a)+\\gamma Q^{*}(s',a')] \\\\\n",
    "&=E_{s'\\sim p(.|s,a)}   \\left[ r(s,a) + \\gamma  \\sum_{a'} \\pi(a'|s') Q^{*}(s',a') \\right].\n",
    "\\end{align}$$ \n",
    "\n",
    "\n",
    "> But the optimal policy $\\pi^*$ satisfies for any action $a$ : $$\\pi^*(a|s) = 1_{a = a_0} $$ where we set : $$a_0 = \\arg \\max_{a} Q^{*}(s,a)$$\n",
    "\n",
    "> Hence : $$\\begin{align}\n",
    "Q^{*}(s,a) &= E_{s'\\sim p(.|s,a)} \\left[ r(s,a)+\\gamma Q^{*} \\left( s',\\arg \\max_{a'} Q^{*}(s',a') \\right) \\right] \\\\\n",
    "&=E_{s'\\sim p(.|s,a)}[r(s,a)+\\gamma \\max_{a'} Q^{*}(s',a')] \\end{align}$$ \n",
    "\n",
    "*** \n",
    "\n",
    "> **Question 3**\n",
    "\n",
    "> Hence :  $$ E_{s'\\sim p(.|s,a)}[r(s,a)+\\gamma \\max_{a'} Q^{*}(s',a')- Q^{*}(s,a) ] = 0 $$\n",
    "\n",
    "> Therefore, such matrix $Q^{*}$ will minimize the following loss : \\begin{equation*}\n",
    "\\mathcal{L}(\\theta)=E_{s' \\sim p(.|s,a)}\\Vert r(s,a) +\\gamma \\max_{a'}Q(s',a',\\theta)-Q(s,a,\\theta)\\Vert^{2}.\n",
    "\\end{equation*}\n"
   ]
  },
  {
   "cell_type": "markdown",
   "metadata": {},
   "source": [
    "***\n",
    "The DQN-learning algorithm relies on these derivations to train the parameters $\\theta$ of a Deep Neural Network:\n",
    "\n",
    "1. At the state $s_t$, select the action $a_t$ with best reward using $Q_t$ and store the results;\n",
    "\n",
    "[Note : I assumed that at state $s_t$, we select the action $a_t$ following an epsilon-greedy policy (ie. the one with highest $Q_t$ value with probability 1-epsilon, and uniformly at random otherwise]\n",
    "\n",
    "2. Obtain the new state $s_{t+1}$ from the environment $p$;\n",
    "\n",
    "3. Store $(s_t,a_t,s_{t+1})$;\n",
    "\n",
    "4. Obtain $Q_{t+1}$ by minimizing  $\\mathcal{L}$ from a recovered batch from the previously stored results.\n",
    "\n",
    "***\n",
    "__Question 6__ Implement the class ```Memory``` that stores moves (in a replay buffer) via ```remember``` and provides a ```random_access``` to these. Specify a maximum memory size to avoid side effects. You can for example use a ```list()``` and set by default ```max_memory=100```."
   ]
  },
  {
   "cell_type": "code",
   "execution_count": 68,
   "metadata": {},
   "outputs": [],
   "source": [
    "class Memory(object):\n",
    "    def __init__(self, max_memory=100):\n",
    "        self.max_memory = max_memory\n",
    "        self.memory = list()\n",
    "\n",
    "    def remember(self, m):\n",
    "        self.memory.append(m)\n",
    "        if len(self.memory)>self.max_memory:\n",
    "            self.memory = self.memory[-self.max_memory:]\n",
    "\n",
    "    def random_access(self):\n",
    "        idx = np.random.randint(len(self.memory))\n",
    "        return self.memory[idx]"
   ]
  },
  {
   "cell_type": "markdown",
   "metadata": {},
   "source": [
    "***\n",
    "The pipeline we will use for training is given below:"
   ]
  },
  {
   "cell_type": "code",
   "execution_count": 69,
   "metadata": {},
   "outputs": [],
   "source": [
    "def train(agent,env,epoch,prefix=''):\n",
    "    \n",
    "    history_losses = []\n",
    "    history_scores = []    \n",
    "    \n",
    "    score = 0\n",
    "    \n",
    "    for e in range(epoch):\n",
    "            \n",
    "        # At each epoch, we restart to a fresh game and get the initial state\n",
    "        state = env.reset()\n",
    "        # This assumes that the games will terminate\n",
    "        game_over = False\n",
    "        \n",
    "        loss = 0\n",
    "\n",
    "        win = 0\n",
    "        lose = 0\n",
    "        \n",
    "        t = 0\n",
    "\n",
    "        while not game_over:\n",
    "            \n",
    "            # The agent performs an action\n",
    "            action = agent.act(state, train=True)\n",
    "\n",
    "            # Apply an action to the environment, get the next state, the reward\n",
    "            prev_state = state\n",
    "            state, reward, game_over = env.act(action)\n",
    "\n",
    "            # Update the counters\n",
    "            if reward > 0:\n",
    "                win = win + reward\n",
    "            if reward < 0:\n",
    "                lose = lose - reward\n",
    "\n",
    "            # Apply the reinforcement strategy\n",
    "            loss += agent.reinforce(prev_state, state,  action, reward, game_over)\n",
    "            \n",
    "            t+=1\n",
    "            \n",
    "        loss /= t\n",
    "            \n",
    "        history_losses.append(loss)\n",
    "\n",
    "        # Save as a mp4\n",
    "        if e % 10 == 0:\n",
    "            env.draw(prefix+str(e))\n",
    "\n",
    "        # Update stats\n",
    "        score_episode = 0.5*win-lose\n",
    "        score += score_episode\n",
    "        history_scores.append(score_episode)\n",
    "\n",
    "        print(\"Epoch {:03d}/{:03d} | Loss {:.4f} | Win/lose count {}/{} ({})\"\n",
    "              .format(e, epoch, loss, win, lose, score_episode))\n",
    "        agent.save(name_weights=prefix+'model.h5',name_model=prefix+'model.json')\n",
    "        \n",
    "    return history_losses, history_scores"
   ]
  },
  {
   "cell_type": "markdown",
   "metadata": {},
   "source": [
    "***\n",
    "__Question 7__ Implement the DQN training algorithm using a cascade of fully connected layers. You can use different learning rate, batch size or memory size parameters. In particular, the loss might oscillate while the player will start to win the games. You have to find a good criterium."
   ]
  },
  {
   "cell_type": "markdown",
   "metadata": {},
   "source": [
    "> Though I tried several depths and widths for the fully connected network, the one which gave me the best outcomes was composed of only one hidden layer with 32 neurons, followed by relu activations. A higher number of hidden layers seemed to lead to overfitting, to which the dropout layer I previously used did not really manage to face.  I used a learning rate of 0.1, a memory of size 2000, and a batch size of 32."
   ]
  },
  {
   "cell_type": "code",
   "execution_count": 70,
   "metadata": {},
   "outputs": [],
   "source": [
    "class DQN(Agent):\n",
    "    def __init__(self, grid_size = 10.,  epsilon = 0.1, memory_size=100, batch_size = 16, n_state=2):\n",
    "        super(DQN, self).__init__(epsilon = epsilon)\n",
    "\n",
    "        # Discount for Q learning\n",
    "        self.discount = 0.99\n",
    "        \n",
    "        self.grid_size = grid_size\n",
    "        \n",
    "        # number of state\n",
    "        self.n_state = n_state\n",
    "\n",
    "        # Memory\n",
    "        self.memory = Memory(memory_size)\n",
    "        \n",
    "        # Batch size when learning\n",
    "        self.batch_size = batch_size\n",
    "\n",
    "    def learned_act(self, s):\n",
    "        state_action_values = self.model.predict(s[None,:,:,:]).flatten()\n",
    "        return np.argmax(state_action_values)\n",
    "\n",
    "    def reinforce(self, s_, n_s_, a_, r_, game_over_):\n",
    "        # Two steps: first memorize the states, second learn from the pool\n",
    "\n",
    "        self.memory.remember([s_, n_s_, a_, r_, game_over_])\n",
    "        \n",
    "        input_states = np.zeros((self.batch_size, 5, 5, self.n_state))\n",
    "        \n",
    "        steps = [self.memory.random_access() for i in range(self.batch_size)]\n",
    "        \n",
    "        #storing init states\n",
    "        input_states = np.array([s[0] for s in steps])\n",
    "        \n",
    "        #storing next_states, played actions, rewards, and booleans game_over \n",
    "        next_state = np.array([s[1] for s in steps])\n",
    "        tmp = np.array([s[2:] for s in steps])\n",
    "        played_action = tmp[:,0].astype(int)\n",
    "        reward = tmp[:,1]\n",
    "        game_over = tmp[:,2]\n",
    "        \n",
    "        #computing current assessments of q(init_state,action) for any action from init_state\n",
    "        target_q = self.model.predict(input_states)\n",
    "        \n",
    "        #reassessing q(input_state,action) for the played action from input_state\n",
    "        q_next_state = self.model.predict(next_state) #q-values in next state of all actions\n",
    "        target_q_played_action = reward  + (1-game_over) * self.discount * np.max(q_next_state,axis=1) \n",
    "        for i in range(self.batch_size):\n",
    "            target_q[i, played_action[i]] = target_q_played_action[i]\n",
    "        \n",
    "        # HINT: Clip the target to avoid exploiding gradients.. -- clipping is a bit tighter        \n",
    "        target_q = np.clip(target_q, -3, 3)\n",
    "\n",
    "        #early_stopping_monitor = EarlyStopping(patience = 5)\n",
    "        l = self.model.train_on_batch(input_states, target_q)\n",
    "\n",
    "        return l\n",
    "\n",
    "    def save(self,name_weights='model.h5',name_model='model.json'):\n",
    "        self.model.save_weights(name_weights, overwrite=True)\n",
    "        with open(name_model, \"w\") as outfile:\n",
    "            json.dump(self.model.to_json(), outfile)\n",
    "            \n",
    "    def load(self,name_weights='model.h5',name_model='model.json'):\n",
    "        with open(name_model, \"r\") as jfile:\n",
    "            model = model_from_json(json.load(jfile))\n",
    "        model.load_weights(name_weights)\n",
    "        \n",
    "        model.compile(\"sgd\", \"mse\")\n",
    "        \n",
    "        self.model = model\n",
    "\n",
    "\n",
    "class DQN_FC(DQN):\n",
    "    def __init__(self, lr=0.1, *args, **kwargs):\n",
    "        super(DQN_FC, self).__init__(*args,**kwargs)\n",
    "        \n",
    "        # NN Model\n",
    "        \n",
    "        model = Sequential()\n",
    "        model.add(Flatten(input_shape = (5,5,self.n_state,)))\n",
    "        model.add(Dense(32))\n",
    "        model.add(Activation('relu'))\n",
    "        model.add(Dense(self.n_action))\n",
    "        \n",
    "        model.summary()\n",
    "        \n",
    "        opt = sgd(lr=lr, decay=1e-4, momentum=0.0)\n",
    "        model.compile(loss=\"mse\", optimizer = opt)\n",
    "        \n",
    "        self.model = model"
   ]
  },
  {
   "cell_type": "code",
   "execution_count": 71,
   "metadata": {
    "scrolled": true
   },
   "outputs": [
    {
     "name": "stdout",
     "output_type": "stream",
     "text": [
      "_________________________________________________________________\n",
      "Layer (type)                 Output Shape              Param #   \n",
      "=================================================================\n",
      "flatten_18 (Flatten)         (None, 50)                0         \n",
      "_________________________________________________________________\n",
      "dense_21 (Dense)             (None, 32)                1632      \n",
      "_________________________________________________________________\n",
      "activation_4 (Activation)    (None, 32)                0         \n",
      "_________________________________________________________________\n",
      "dense_22 (Dense)             (None, 4)                 132       \n",
      "=================================================================\n",
      "Total params: 1,764\n",
      "Trainable params: 1,764\n",
      "Non-trainable params: 0\n",
      "_________________________________________________________________\n",
      "Epoch 000/101 | Loss 0.0115 | Win/lose count 3.0/5.0 (-3.5)\n",
      "Epoch 001/101 | Loss 0.0129 | Win/lose count 3.0/3.0 (-1.5)\n",
      "Epoch 002/101 | Loss 0.0137 | Win/lose count 3.0/6.0 (-4.5)\n",
      "Epoch 003/101 | Loss 0.0108 | Win/lose count 2.5/0 (1.25)\n",
      "Epoch 004/101 | Loss 0.0154 | Win/lose count 2.5/2.0 (-0.75)\n",
      "Epoch 005/101 | Loss 0.0149 | Win/lose count 2.0/5.0 (-4.0)\n",
      "Epoch 006/101 | Loss 0.0178 | Win/lose count 2.0/2.0 (-1.0)\n",
      "Epoch 007/101 | Loss 0.0114 | Win/lose count 6.0/4.0 (-1.0)\n",
      "Epoch 008/101 | Loss 0.0139 | Win/lose count 1.0/2.0 (-1.5)\n",
      "Epoch 009/101 | Loss 0.0128 | Win/lose count 1.0/4.0 (-3.5)\n",
      "Epoch 010/101 | Loss 0.0145 | Win/lose count 5.0/7.0 (-4.5)\n",
      "Epoch 011/101 | Loss 0.0119 | Win/lose count 4.0/1.0 (1.0)\n",
      "Epoch 012/101 | Loss 0.0164 | Win/lose count 2.0/5.0 (-4.0)\n",
      "Epoch 013/101 | Loss 0.0149 | Win/lose count 2.5/3.0 (-1.75)\n",
      "Epoch 014/101 | Loss 0.0184 | Win/lose count 1.5/5.0 (-4.25)\n",
      "Epoch 015/101 | Loss 0.0151 | Win/lose count 3.0/1.0 (0.5)\n",
      "Epoch 016/101 | Loss 0.0134 | Win/lose count 5.0/4.0 (-1.5)\n",
      "Epoch 017/101 | Loss 0.0137 | Win/lose count 5.5/2.0 (0.75)\n",
      "Epoch 018/101 | Loss 0.0128 | Win/lose count 4.5/1.0 (1.25)\n",
      "Epoch 019/101 | Loss 0.0141 | Win/lose count 2.0/4.0 (-3.0)\n",
      "Epoch 020/101 | Loss 0.0124 | Win/lose count 2.5/0 (1.25)\n",
      "Epoch 021/101 | Loss 0.0122 | Win/lose count 0.5/2.0 (-1.75)\n",
      "Epoch 022/101 | Loss 0.0111 | Win/lose count 3.0/1.0 (0.5)\n",
      "Epoch 023/101 | Loss 0.0119 | Win/lose count 1.5/2.0 (-1.25)\n",
      "Epoch 024/101 | Loss 0.0099 | Win/lose count 3.0/4.0 (-2.5)\n",
      "Epoch 025/101 | Loss 0.0136 | Win/lose count 4.0/3.0 (-1.0)\n",
      "Epoch 026/101 | Loss 0.0129 | Win/lose count 2.5/3.0 (-1.75)\n",
      "Epoch 027/101 | Loss 0.0122 | Win/lose count 3.5/4.0 (-2.25)\n",
      "Epoch 028/101 | Loss 0.0112 | Win/lose count 4.0/3.0 (-1.0)\n",
      "Epoch 029/101 | Loss 0.0125 | Win/lose count 4.0/2.0 (0.0)\n",
      "Epoch 030/101 | Loss 0.0114 | Win/lose count 4.0/3.0 (-1.0)\n",
      "Epoch 031/101 | Loss 0.0116 | Win/lose count 6.5/4.0 (-0.75)\n",
      "Epoch 032/101 | Loss 0.0118 | Win/lose count 3.5/1.0 (0.75)\n",
      "Epoch 033/101 | Loss 0.0132 | Win/lose count 7.5/1.0 (2.75)\n",
      "Epoch 034/101 | Loss 0.0111 | Win/lose count 3.5/3.0 (-1.25)\n",
      "Epoch 035/101 | Loss 0.0118 | Win/lose count 5.5/3.0 (-0.25)\n",
      "Epoch 036/101 | Loss 0.0127 | Win/lose count 8.0/3.0 (1.0)\n",
      "Epoch 037/101 | Loss 0.0143 | Win/lose count 3.0/4.0 (-2.5)\n",
      "Epoch 038/101 | Loss 0.0131 | Win/lose count 7.0/4.0 (-0.5)\n",
      "Epoch 039/101 | Loss 0.0132 | Win/lose count 10.5/4.0 (1.25)\n",
      "Epoch 040/101 | Loss 0.0123 | Win/lose count 19.5/2.0 (7.75)\n",
      "Epoch 041/101 | Loss 0.0140 | Win/lose count 9.5/3.0 (1.75)\n",
      "Epoch 042/101 | Loss 0.0110 | Win/lose count 1.5/0 (0.75)\n",
      "Epoch 043/101 | Loss 0.0138 | Win/lose count 17.0/7.0 (1.5)\n",
      "Epoch 044/101 | Loss 0.0114 | Win/lose count 11.0/1.0 (4.5)\n",
      "Epoch 045/101 | Loss 0.0165 | Win/lose count 9.0/4.0 (0.5)\n",
      "Epoch 046/101 | Loss 0.0116 | Win/lose count 8.5/5.0 (-0.75)\n",
      "Epoch 047/101 | Loss 0.0127 | Win/lose count 6.5/3.0 (0.25)\n",
      "Epoch 048/101 | Loss 0.0123 | Win/lose count 11.0/7.0 (-1.5)\n",
      "Epoch 049/101 | Loss 0.0146 | Win/lose count 6.5/0 (3.25)\n",
      "Epoch 050/101 | Loss 0.0127 | Win/lose count 6.0/1.0 (2.0)\n",
      "Epoch 051/101 | Loss 0.0138 | Win/lose count 5.0/2.0 (0.5)\n",
      "Epoch 052/101 | Loss 0.0089 | Win/lose count 5.5/3.0 (-0.25)\n",
      "Epoch 053/101 | Loss 0.0129 | Win/lose count 10.5/2.0 (3.25)\n",
      "Epoch 054/101 | Loss 0.0136 | Win/lose count 13.5/8.0 (-1.25)\n",
      "Epoch 055/101 | Loss 0.0140 | Win/lose count 14.0/2.0 (5.0)\n",
      "Epoch 056/101 | Loss 0.0133 | Win/lose count 8.5/3.0 (1.25)\n",
      "Epoch 057/101 | Loss 0.0101 | Win/lose count 10.5/4.0 (1.25)\n",
      "Epoch 058/101 | Loss 0.0079 | Win/lose count 3.5/1.0 (0.75)\n",
      "Epoch 059/101 | Loss 0.0132 | Win/lose count 10.5/2.0 (3.25)\n",
      "Epoch 060/101 | Loss 0.0118 | Win/lose count 10.0/4.0 (1.0)\n",
      "Epoch 061/101 | Loss 0.0112 | Win/lose count 13.5/2.0 (4.75)\n",
      "Epoch 062/101 | Loss 0.0123 | Win/lose count 13.5/5.0 (1.75)\n",
      "Epoch 063/101 | Loss 0.0142 | Win/lose count 15.0/4.0 (3.5)\n",
      "Epoch 064/101 | Loss 0.0135 | Win/lose count 9.5/1.0 (3.75)\n",
      "Epoch 065/101 | Loss 0.0113 | Win/lose count 17.0/3.0 (5.5)\n",
      "Epoch 066/101 | Loss 0.0114 | Win/lose count 14.0/3.0 (4.0)\n",
      "Epoch 067/101 | Loss 0.0127 | Win/lose count 4.5/2.0 (0.25)\n",
      "Epoch 068/101 | Loss 0.0116 | Win/lose count 10.5/2.0 (3.25)\n",
      "Epoch 069/101 | Loss 0.0114 | Win/lose count 7.0/3.0 (0.5)\n",
      "Epoch 070/101 | Loss 0.0109 | Win/lose count 15.0/1.0 (6.5)\n",
      "Epoch 071/101 | Loss 0.0113 | Win/lose count 10.5/5.0 (0.25)\n",
      "Epoch 072/101 | Loss 0.0137 | Win/lose count 17.5/3.0 (5.75)\n",
      "Epoch 073/101 | Loss 0.0115 | Win/lose count 14.0/2.0 (5.0)\n",
      "Epoch 074/101 | Loss 0.0100 | Win/lose count 8.0/2.0 (2.0)\n",
      "Epoch 075/101 | Loss 0.0107 | Win/lose count 13.0/3.0 (3.5)\n",
      "Epoch 076/101 | Loss 0.0112 | Win/lose count 5.0/2.0 (0.5)\n",
      "Epoch 077/101 | Loss 0.0105 | Win/lose count 7.5/3.0 (0.75)\n",
      "Epoch 078/101 | Loss 0.0105 | Win/lose count 14.5/3.0 (4.25)\n",
      "Epoch 079/101 | Loss 0.0109 | Win/lose count 4.0/4.0 (-2.0)\n",
      "Epoch 080/101 | Loss 0.0124 | Win/lose count 9.5/6.0 (-1.25)\n",
      "Epoch 081/101 | Loss 0.0106 | Win/lose count 8.0/1.0 (3.0)\n",
      "Epoch 082/101 | Loss 0.0117 | Win/lose count 3.0/1.0 (0.5)\n",
      "Epoch 083/101 | Loss 0.0114 | Win/lose count 12.0/8.0 (-2.0)\n",
      "Epoch 084/101 | Loss 0.0116 | Win/lose count 17.0/4.0 (4.5)\n",
      "Epoch 085/101 | Loss 0.0117 | Win/lose count 7.5/3.0 (0.75)\n",
      "Epoch 086/101 | Loss 0.0115 | Win/lose count 5.5/3.0 (-0.25)\n",
      "Epoch 087/101 | Loss 0.0126 | Win/lose count 13.5/2.0 (4.75)\n",
      "Epoch 088/101 | Loss 0.0104 | Win/lose count 21.0/6.0 (4.5)\n",
      "Epoch 089/101 | Loss 0.0098 | Win/lose count 8.0/2.0 (2.0)\n",
      "Epoch 090/101 | Loss 0.0098 | Win/lose count 18.5/4.0 (5.25)\n",
      "Epoch 091/101 | Loss 0.0114 | Win/lose count 9.5/4.0 (0.75)\n",
      "Epoch 092/101 | Loss 0.0122 | Win/lose count 13.5/1.0 (5.75)\n",
      "Epoch 093/101 | Loss 0.0108 | Win/lose count 18.0/2.0 (7.0)\n",
      "Epoch 094/101 | Loss 0.0113 | Win/lose count 13.0/4.0 (2.5)\n",
      "Epoch 095/101 | Loss 0.0108 | Win/lose count 16.0/1.0 (7.0)\n",
      "Epoch 096/101 | Loss 0.0110 | Win/lose count 13.5/2.0 (4.75)\n",
      "Epoch 097/101 | Loss 0.0125 | Win/lose count 12.5/2.0 (4.25)\n",
      "Epoch 098/101 | Loss 0.0112 | Win/lose count 5.5/0 (2.75)\n",
      "Epoch 099/101 | Loss 0.0117 | Win/lose count 22.0/5.0 (6.0)\n",
      "Epoch 100/101 | Loss 0.0114 | Win/lose count 8.0/3.0 (1.0)\n"
     ]
    },
    {
     "data": {
      "text/html": [
       "<video alt=\"test\" controls>\n",
       "                <source src=\"data:video/mp4;base64,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\" type=\"video/mp4\" />\n",
       "             </video>"
      ],
      "text/plain": [
       "<IPython.core.display.HTML object>"
      ]
     },
     "execution_count": 71,
     "metadata": {},
     "output_type": "execute_result"
    }
   ],
   "source": [
    "env = Environment(grid_size=size, max_time=T, temperature=temperature)\n",
    "agent_dqn_fc = DQN_FC(grid_size=size, lr=.1, epsilon = 0.1, memory_size=2000, batch_size = 32)\n",
    "history_losses_dqn_fc, history_scores_dqn_fc = train(agent_dqn_fc, env, epochs_train, prefix='fc_train')\n",
    "\n",
    "HTML(display_videos('fc_train50.mp4'))"
   ]
  },
  {
   "cell_type": "code",
   "execution_count": 72,
   "metadata": {},
   "outputs": [
    {
     "data": {
      "text/html": [
       "<video alt=\"test\" controls>\n",
       "                <source src=\"data:video/mp4;base64,AAAAIGZ0eXBpc29tAAACAGlzb21pc28yYXZjMW1wNDEAAAAIZnJlZQAAGCBtZGF0AAACrQYF//+p3EXpvebZSLeWLNgg2SPu73gyNjQgLSBjb3JlIDE0OCByMjY0MyA1YzY1NzA0IC0gSC4yNjQvTVBFRy00IEFWQyBjb2RlYyAtIENvcHlsZWZ0IDIwMDMtMjAxNSAtIGh0dHA6Ly93d3cudmlkZW9sYW4ub3JnL3gyNjQuaHRtbCAtIG9wdGlvbnM6IGNhYmFjPTEgcmVmPTMgZGVibG9jaz0xOjA6MCBhbmFseXNlPTB4MzoweDExMyBtZT1oZXggc3VibWU9NyBwc3k9MSBwc3lfcmQ9MS4wMDowLjAwIG1peGVkX3JlZj0xIG1lX3JhbmdlPTE2IGNocm9tYV9tZT0xIHRyZWxsaXM9MSA4eDhkY3Q9MSBjcW09MCBkZWFkem9uZT0yMSwxMSBmYXN0X3Bza2lwPTEgY2hyb21hX3FwX29mZnNldD00IHRocmVhZHM9OCBsb29rYWhlYWRfdGhyZWFkcz0xIHNsaWNlZF90aHJlYWRzPTAgbnI9MCBkZWNpbWF0ZT0xIGludGVybGFjZWQ9MCBibHVyYXlfY29tcGF0PTAgY29uc3RyYWluZWRfaW50cmE9MCBiZnJhbWVzPTMgYl9weXJhbWlkPTIgYl9hZGFwdD0xIGJfYmlhcz0wIGRpcmVjdD0xIHdlaWdodGI9MSBvcGVuX2dvcD0wIHdlaWdodHA9MiBrZXlpbnQ9MjUwIGtleWludF9taW49MjUgc2NlbmVjdXQ9NDAgaW50cmFfcmVmcmVzaD0wIHJjX2xvb2thaGVhZD00MCByYz1jcmYgbWJ0cmVlPTEgY3JmPTIzLjAgcWNvbXA9MC42MCBxcG1pbj0wIHFwbWF4PTY5IHFwc3RlcD00IGlwX3JhdGlvPTEuNDAgYXE9MToxLjAwAIAAAAMMZYiEADf//vaH+BTZWBO6f/0/4LrOnzl/nbABNNgBSG5gp/w1NF8Cktv/wKZbHk66fMPx/E/CmaiSUruX//LcHS8yLTM0UWYU6w5hvqMM26DBVD4+UhDa0okj0va6a7JxpvJjfey/uPjAPEhVkNhv4eGrAeZmiU8+WkgoNITAVdM/93zGvWM8nC8SfZEoTVgs+oyhsA5q4jqHhBOPwz/967SpI9KRB6/aJOj0teoMsNoV2tzqXSf25Zjedo/6H/P3H8zkt3prcfRDuTxfihw7k8JQHx31mdt6Ws/436B81YEy9oiByD87FwN0vRHbaJJY9ZET2PS5M4WWsXX1KFrg9bb4T03a2cLWFWA3XvXLr0wTobKjMRl9UtSqZANqsLhuLCH/bdR52ze8jCAZQS2N+Ujk42XHEjwnoxciUKYNtqmc+pighinz0yo4vuBMWnptEITDqURXRvdgoIQopNRB6wtNhUGOo2P6JYS8/UqOtRQFj3O3nsbpJD7i1VZmfMzRdZmiNdxQsgE9ZatZxRcOmqpPVjHfHmt1cDQVcWKSkVvdaIjpg+iiYnEcy8jGJzhbO6vE0xp5KmEk6bHtZJdWmp0Vvgi0pgAOS+TN66jPXpYi3ejE/9IEImla+lQePzhO2bf9iu/+X986UzKh39AVzJYoM5jdypX+83FSkN+n0V0TkJ+eYGvymJiBV0SVN7BTEC7lwDOgZKv5XqDV1gBj/Lb/+6XiZuii8lO39xjpS8HyC6YAIFmomOa5QOlRyACn7yHUt3X1ObREa9mg9N1i+w90i6d62x65uwFAffCCsK/CJiMSH7rIk3QseTI7QNFmcD829TW+1lu3sU+knwkcOD9r+dQD6SmxEMa9rdh7eXYRxSPy2unh9gH3TUVCbdsJ5LLS2dFQHJ8k3ECKeOc4TLZ8RZBN0sGdWJ+6ix5T6YRigE7exnd5WV9ZRbKroBdRWDKF0klf4XSTON7JvM+rj38B8NiX84kWvFnGOKkbEgWUMdA4KH8EM13CLoZTv3EQMOeVaYIpRLF0HDChAAAAFkGaIWxDf/6nhAPcRP9QPl0CE/p8uIAAAAAbQZpFPCGTKYQz//6eEA9lOOfTUfcNUi1DcL1dAAAAEEGeY2pTwv8BZQ+scM1vuTgAAAAPAZ6CdEK/Ad8kDXXw+KSBAAAADwGehGpCvwHRtjFXgCfyMwAAABlBmoZJqEFomUwIb//+p4QA7XCZlcgt6aYPAAAAGEGap0nhClJlMCG//qeEAJt024pkUJ7/8wAAACVBmstJ4Q6JlMCGf/6eEAGJ9ff0K6MAKApnmen+rgU2luxy3e9tAAAAFkGe6UURPC//ADtfsqwo+iyyCiKKjYAAAAAPAZ8IdEK/AFHTlCk2yVVJAAAAEAGfCmpCvwAzhMk030kHI3AAAAAcQZsMSahBaJlMCG///qeEAD9nGf6rfVQIT+6ukAAAABhBmy1J4QpSZTAhv/6nhABkaRP9SkAqkEEAAAAcQZtRSeEOiZTAhv/+p4QAZP2D+fB9LaDUhGD0WQAAABJBn29FETwv/wA7X2iDKQoq4T8AAAAQAZ+OdEK/AFHTWjJLf638wAAAABABn5BqQr8ANg6p5LmfJSuAAAAAGUGbkkmoQWiZTAhv//6nhABDR8x5GJ/lt3EAAAAsQZu2SeEKUmUwIb/+p4QA/frDcyyrbKfgUloH8CmW0cawkCd/3FNjmiYY3akAAAAlQZ/URTRML/8AmufdNiYsf/+P8npoan8ZfD5DkKaN9j51x4Zr0AAAAA8Bn/N0Qr8AWLMncGyXjb8AAAAQAZ/1akK/ANK7Ucr+3D6JwAAAABlBm/dJqEFomUwIb//+p4QBrmif6iehDXHBAAAAGUGaGEnhClJlMCHf/qmWANo5Bl1pRyMoA/MAAAAgQZo8SeEOiZTAhv/+p4QEkjMeV+RP/bgT5lliZHMVUnAAAAAVQZ5aRRE8L/8Bb/sDj5hspvlrSfYtAAAAEAGeeXRCvwHsaVi2NiCiW9AAAAAQAZ57akK/Ad6y/VHzH4tjQQAAABpBmn1JqEFomUwId//+qZYAxHjz96LDpA2rYQAAACJBmoFJ4QpSZTAhv/6nhADtcJmaO+ILLLID//hKljz//ZUWAAAAFEGev0U0TC//AI7QEHN26WuJRm0wAAAAEAGe3nRCvwDDgIXAfk//SCEAAAAPAZ7AakK/AFHbbpRpDxPhAAAAGkGawkmoQWiZTAh3//6plgAgBRzrQ9X3yI3BAAAAIkGa5knhClJlMCHf/qmWAHq1kwfEINv/wlVDN//6QPpdXAMAAAAUQZ8ERTRML/8AkufoOcVbjJiX08EAAAAPAZ8jdEK/AFQzJ3Bsl43VAAAAEAGfJWpCvwDIu1HK/tw+jcEAAAAZQZsqSahBaJlMCHf//qmWAHq4vRhDoXtNvQAAABVBn0hFESwv/wCS0Bm2lfrkNlt5tvgAAAAQAZ9ndEK/AMiAAGSW/1tnwAAAABABn2lqQr8AfEIBOvAE/q2BAAAAHEGbbkmoQWyZTAh3//6plgAxUFnKDNAp9GP0xyoAAAAQQZ+MRRUsL/8AOgnUb2CP+AAAAA8Bn6t0Qr8ANMkohTBGG4EAAAAQAZ+takK/AFHUaJkTSs3lQQAAABtBm7JJqEFsmUwId//+qZYAMZ8Qh8/vjimRNVEAAAAQQZ/QRRUsL/8AOf/FXkUgIAAAABABn+90Qr8AUe0d5Wyh6UmAAAAADwGf8WpCvwA01iB5MEYbgQAAABNBm/ZJqEFsmUwId//+qZYAAJWAAAAAEUGeFEUVLC//ADoNdc7yFICAAAAAEAGeM3RCvwBPs0SJ8WYo5JEAAAAQAZ41akK/AFHpRvNMVbSkwAAAABNBmjpJqEFsmUwId//+qZYAAJWBAAAADEGeWEUVLC//AACygQAAAA8Bnnd0Qr8ANEV7uR6013oAAAAPAZ55akK/ADRFe5ykdzDdAAAAE0GafkmoQWyZTAh3//6plgAAlYAAAAAMQZ6cRRUsL/8AALKBAAAADwGeu3RCvwA0RXu5HrTXewAAAA8Bnr1qQr8ANEV7nKR3MNwAAAAcQZqiSahBbJlMCG///qeEAGHdWzE/1dvdT9q6qAAAABBBnsBFFSwv/wA6CdRvYI/5AAAADwGe/3RCvwA0ySiFMEYbgAAAABABnuFqQr8AT6yITcZ9enJJAAAAGUGa40moQWyZTAh3//6plgAykFlZxWnIcqAAAAAlQZsHSeEKUmUwId/+qZYAd/WTB8QkJB//CVEFn//pSXfj/6bqoQAAABVBnyVFNEwv/wCO5+5TMfMRF3KgqpkAAAAPAZ9EdEK/AH8jDyhoGamfAAAAEAGfRmpCvwDIgsa95pWbUkEAAAAeQZtLSahBaJlMCHf//qmWAHf4vRhDynB0cfEDrFuOAAAAEkGfaUURLC//AI7QEHP2Fbr9XAAAABABn4h0Qr8Aw4CFwH5P/0ghAAAADwGfimpCvwBR226UaQ8T4QAAABNBm49JqEFsmUwId//+qZYAAJWAAAAADEGfrUUVLC//AACygQAAABABn8x0Qr8ANM8m6O2+Fd6BAAAADwGfzmpCvwA0wLGiVzy7gQAAABNBm9NJqEFsmUwId//+qZYAAJWAAAAADEGf8UUVLC//AACygAAAABABnhB0Qr8ANM8m6O2+Fd6BAAAADwGeEmpCvwA0wLGiVzy7gQAAACRBmhdJqEFsmUwId//+qZYAULfBz+IQbf/hKqGb//0oC922qLAAAAAVQZ41RRUsL/8AX5V3eb365DfbM4jhAAAAEAGeVHRCvwBR8tUDp2obGYAAAAAQAZ5WakK/AH8Z4Q8aGsaZgQAAABlBmltJqEFsmUwId//+qZYAULnmRFFARsA9AAAAFUGeeUUVLC//AI7jx9Fiu3mvjyDVTAAAABABnph0Qr8AyNlXchsqUgHhAAAAEAGemmpCvwDDktp14An8+IAAAAAcQZqfSahBbJlMCHf//qmWADLe0v6/qtQshS58TwAAABBBnr1FFSwv/wA7X8PXWHTBAAAADwGe3HRCvwBR05QpNslVSQAAAA8Bnt5qQr8ANMCxsDlOG4AAAAATQZrDSahBbJlMCHf//qmWAACVgQAAAAxBnuFFFSwv/wAAsoAAAAAQAZ8AdEK/ADTPJujtvhXegQAAAA8BnwJqQr8ANMCxolc8u4EAAAAcQZsHSahBbJlMCHf//qmWAB9faX9iwHRAtxjA4wAAABBBnyVFFSwv/wAlufucLKc5AAAADwGfRHRCvwA0zybzzi3AgQAAABABn0ZqQr8AM4TJNN9JByNxAAAAGUGbS0moQWyZTAh3//6plgAfNdMj++r7tbMAAAAQQZ9pRRUsL/8AJbQHLyKc4AAAABABn4h0Qr8ANNZV3IbKlJfhAAAADwGfimpCvwA0wLGwOU4bgAAAABNBm49JqEFsmUwId//+qZYAAJWAAAAADEGfrUUVLC//AACygQAAABABn8x0Qr8ANM8m6O2+Fd6BAAAADwGfzmpCvwA0wLGiVzy7gQAAABNBm9NJqEFsmUwId//+qZYAAJWAAAAADEGf8UUVLC//AACygAAAABABnhB0Qr8ANM8m6O2+Fd6BAAAADwGeEmpCvwA0wLGiVzy7gQAAABNBmhdJqEFsmUwId//+qZYAAJWAAAAADEGeNUUVLC//AACygQAAABABnlR0Qr8ANM8m6O2+Fd6AAAAADwGeVmpCvwA0wLGiVzy7gQAAABxBmltJqEFsmUwId//+qZYAMpBZi0zQHd9GPXCzAAAAEEGeeUUVLC//ADtp07/N5qgAAAAPAZ6YdEK/ADTPJvPOLcCBAAAAEAGemmpCvwBR7CPJgevb+YAAAAAZQZqfSahBbJlMCHf//qmWADLe0v6/rtGPZQAAABBBnr1FFSwv/wA7X8PXWHTBAAAADwGe3HRCvwBR05QpNslVSQAAAA8Bnt5qQr8ANMCxsDlOG4AAAAAaQZrDSahBbJlMCHf//qmWADKY5B/vtL7nsoEAAAAQQZ7hRRUsL/8AO2nTv83mqAAAAA8BnwB0Qr8ANM8m884twIEAAAAQAZ8CakK/AFHsI8mB69v5gAAAABNBmwdJqEFsmUwId//+qZYAAJWBAAAAEEGfJUUVLC//ADtxLZv0fNUAAAAPAZ9EdEK/AFHTlCk2yVVJAAAAEAGfRmpCvwBR7HluGzam8IEAAAATQZtLSahBbJlMCHf//qmWAACVgAAAABBBn2lFFSwv/wA7cS2b9HzVAAAAEAGfiHRCvwBR01oyS3+t/MEAAAAQAZ+KakK/AFHseW4bNqbwgAAAABNBm49JqEFsmUwId//+qZYAAJWAAAAAEEGfrUUVLC//ADtxLZv0fNUAAAAQAZ/MdEK/AFHTWjJLf638wQAAABABn85qQr8AUex5bhs2pvCBAAAAGUGb00moQWyZTAh3//6plgAy3tL+v67Rj2UAAAAQQZ/xRRUsL/8AO1/D11h0wAAAABABnhB0Qr8AUdNaMkt/rfzBAAAADwGeEmpCvwA0wLGwOU4bgAAAABlBmhdJqEFsmUwIb//+p4QAZHAy7t9g/XCzAAAAEEGeNUUVLC//ADtp07/N5qkAAAAPAZ5UdEK/ADTPJvPOLcCAAAAAEAGeVmpCvwBR7HluGzam8IEAAAAaQZpYSahBbJlMCHf//qmWADLe0vC1BP7ARMEAAAAgQZp8SeEKUmUwId/+qZYAxHiecyyz59uPnc82xs9Gy8AAAAAUQZ6aRTRML/8A3KrnpTXGl7YDEOEAAAAQAZ65dEK/AHxirVeBFdukgAAAABABnrtqQr8BLtnjlf24fOfBAAAAEkGaoEmoQWiZTAhv//6nhAABJwAAABNBnt5FESwv/wFk9ce3twb/cxccAAAAEAGe/XRCvwHfQrVeA1dlrYAAAAAQAZ7/akK/Ad6y/VHzH4tjQQAAABpBmuFJqEFsmUwId//+qZYAyeznWh6vueJlQAAAABpBmwVJ4QpSZTAhv/6nhAGR024y1AgW8cregQAAABVBnyNFNEwv/wDh/xW0rlciRzt9OdgAAAAQAZ9CdEK/AT+0d5Wyh6ONgQAAAA8Bn0RqQr8AzZF8zbMjWbMAAAAkQZtJSahBaJlMCGf//p4QA5/CXUemjHMFNIRf/8QjJUf/xh0xAAAAFUGfZ0URLC//AI7QGap/0WLcAAj8qQAAAA8Bn4Z0Qr8Aw4B8Um2SqQ8AAAAQAZ+IakK/AHmCJmm+kg4v8AAAABpBm4pJqEFsmUwIb//+p4QAmqALNts+z5pJwQAAABlBm6tJ4QpSZTAhv/6nhADsHGf6rfMfiDegAAAAGUGbzEnhDomUwId//qmWAMLFhui3cx+Ao+AAAAAdQZvwSeEPJlMCHf/+qZYA0/di5llnz7fdud6kIfcAAAAQQZ4ORRE8L/8A56esgnnf4QAAAA8Bni10Qr8B0mlYwhVp00EAAAAQAZ4vakK/AT+wjyXM+STmgAAAABpBmjRJqEFomUwId//+qZYA0/gP//rM4TbScAAAABBBnlJFESwv/wDnp6yCed/hAAAADwGecXRCvwFItHeecWj0gAAAAA8BnnNqQr8BP2spm2ZGsi4AAAASQZp4SahBbJlMCG///qeEAAEnAAAAE0GelkUVLC//AWT1x7e3Bv9zFxwAAAAQAZ61dEK/Ad9CtV4DV2WtgQAAAA8BnrdqQr8B3rX4o0h4oicAAAASQZq8SahBbJlMCG///qeEAAEnAAAAEEGe2kUVLC//AWWJat1j2ocAAAAQAZ75dEK/Ad9CtV4DV2WtgAAAABABnvtqQr8B3rL9UfMfi2NBAAAAGUGa/UmoQWyZTAhv//6nhAGNxmPIxP8bcasAAAAeQZsBSeEKUmUwIZ/+nhAGC026fV9kdXmWWfPtQ7pgAAAAFUGfP0U0TC//AOH/FVP+ixhKWBAeuAAAABABn150Qr8BP7R3lbKHo42BAAAAEAGfQGpCvwDNkyTTfSQcU3AAAAAZQZtCSahBaJlMCG///qeEAKh7qcf4fVttKwAAABhBm2NJ4QpSZTAhv/6nhACj8yrizP/ttMwAAAAbQZuHSeEOiZTAhn/+nhACbdNupRLznTYsggeBAAAAEEGfpUURPC//AF+EbvcAqkEAAAAQAZ/EdEK/AH74YDJLf63QQQAAAA8Bn8ZqQr8AUflA8mCLyoEAAAAbQZvJS6hCEFokRggoB/IB/YeAU8K//jhAABFwAAAAJgGf6GpCvwKvY+1BxN2qw0km5aqGBy59WWLMKdgwAUhsAlaw4o5gAAAMUW1vb3YAAABsbXZoZAAAAAAAAAAAAAAAAAAAA+gAAB+QAAEAAAEAAAAAAAAAAAAAAAABAAAAAAAAAAAAAAAAAAAAAQAAAAAAAAAAAAAAAAAAQAAAAAAAAAAAAAAAAAAAAAAAAAAAAAAAAAAAAAAAAAIAAAt7dHJhawAAAFx0a2hkAAAAAwAAAAAAAAAAAAAAAQAAAAAAAB+QAAAAAAAAAAAAAAAAAAAAAAABAAAAAAAAAAAAAAAAAAAAAQAAAAAAAAAAAAAAAAAAQAAAAAEQAAABEAAAAAAAJGVkdHMAAAAcZWxzdAAAAAAAAAABAAAfkAAABAAAAQAAAAAK821kaWEAAAAgbWRoZAAAAAAAAAAAAAAAAAAAMgAAAZQAVcQAAAAAAC1oZGxyAAAAAAAAAAB2aWRlAAAAAAAAAAAAAAAAVmlkZW9IYW5kbGVyAAAACp5taW5mAAAAFHZtaGQAAAABAAAAAAAAAAAAAAAkZGluZgAAABxkcmVmAAAAAAAAAAEAAAAMdXJsIAAAAAEAAApec3RibAAAAJZzdHNkAAAAAAAAAAEAAACGYXZjMQAAAAAAAAABAAAAAAAAAAAAAAAAAAAAAAEQARAASAAAAEgAAAAAAAAAAQAAAAAAAAAAAAAAAAAAAAAAAAAAAAAAAAAAAAAAAAAAABj//wAAADBhdmNDAfQADf/hABdn9AANkZsoIhHQgAAAAwCAAAAZB4oUywEABmjr48RIRAAAABhzdHRzAAAAAAAAAAEAAADKAAACAAAAABRzdHNzAAAAAAAAAAEAAAABAAAGKGN0dHMAAAAAAAAAwwAAAAIAAAQAAAAAAQAACgAAAAABAAAEAAAAAAEAAAAAAAAAAQAAAgAAAAACAAAEAAAAAAEAAAoAAAAAAQAABAAAAAABAAAAAAAAAAEAAAIAAAAAAgAABAAAAAABAAAKAAAAAAEAAAQAAAAAAQAAAAAAAAABAAACAAAAAAEAAAQAAAAAAQAACgAAAAABAAAEAAAAAAEAAAAAAAAAAQAAAgAAAAACAAAEAAAAAAEAAAoAAAAAAQAABAAAAAABAAAAAAAAAAEAAAIAAAAAAQAABAAAAAABAAAKAAAAAAEAAAQAAAAAAQAAAAAAAAABAAACAAAAAAEAAAQAAAAAAQAACgAAAAABAAAEAAAAAAEAAAAAAAAAAQAAAgAAAAABAAAKAAAAAAEAAAQAAAAAAQAAAAAAAAABAAACAAAAAAEAAAoAAAAAAQAABAAAAAABAAAAAAAAAAEAAAIAAAAAAQAACgAAAAABAAAEAAAAAAEAAAAAAAAAAQAAAgAAAAABAAAKAAAAAAEAAAQAAAAAAQAAAAAAAAABAAACAAAAAAEAAAoAAAAAAQAABAAAAAABAAAAAAAAAAEAAAIAAAAAAQAACgAAAAABAAAEAAAAAAEAAAAAAAAAAQAAAgAAAAABAAAKAAAAAAEAAAQAAAAAAQAAAAAAAAABAAACAAAAAAEAAAQAAAAAAQAACgAAAAABAAAEAAAAAAEAAAAAAAAAAQAAAgAAAAABAAAKAAAAAAEAAAQAAAAAAQAAAAAAAAABAAACAAAAAAEAAAoAAAAAAQAABAAAAAABAAAAAAAAAAEAAAIAAAAAAQAACgAAAAABAAAEAAAAAAEAAAAAAAAAAQAAAgAAAAABAAAKAAAAAAEAAAQAAAAAAQAAAAAAAAABAAACAAAAAAEAAAoAAAAAAQAABAAAAAABAAAAAAAAAAEAAAIAAAAAAQAACgAAAAABAAAEAAAAAAEAAAAAAAAAAQAAAgAAAAABAAAKAAAAAAEAAAQAAAAAAQAAAAAAAAABAAACAAAAAAEAAAoAAAAAAQAABAAAAAABAAAAAAAAAAEAAAIAAAAAAQAACgAAAAABAAAEAAAAAAEAAAAAAAAAAQAAAgAAAAABAAAKAAAAAAEAAAQAAAAAAQAAAAAAAAABAAACAAAAAAEAAAoAAAAAAQAABAAAAAABAAAAAAAAAAEAAAIAAAAAAQAACgAAAAABAAAEAAAAAAEAAAAAAAAAAQAAAgAAAAABAAAKAAAAAAEAAAQAAAAAAQAAAAAAAAABAAACAAAAAAEAAAoAAAAAAQAABAAAAAABAAAAAAAAAAEAAAIAAAAAAQAACgAAAAABAAAEAAAAAAEAAAAAAAAAAQAAAgAAAAABAAAKAAAAAAEAAAQAAAAAAQAAAAAAAAABAAACAAAAAAEAAAoAAAAAAQAABAAAAAABAAAAAAAAAAEAAAIAAAAAAQAACgAAAAABAAAEAAAAAAEAAAAAAAAAAQAAAgAAAAABAAAKAAAAAAEAAAQAAAAAAQAAAAAAAAABAAACAAAAAAEAAAoAAAAAAQAABAAAAAABAAAAAAAAAAEAAAIAAAAAAQAABAAAAAABAAAKAAAAAAEAAAQAAAAAAQAAAAAAAAABAAACAAAAAAEAAAoAAAAAAQAABAAAAAABAAAAAAAAAAEAAAIAAAAAAQAABAAAAAABAAAKAAAAAAEAAAQAAAAAAQAAAAAAAAABAAACAAAAAAEAAAoAAAAAAQAABAAAAAABAAAAAAAAAAEAAAIAAAAAAwAABAAAAAABAAAKAAAAAAEAAAQAAAAAAQAAAAAAAAABAAACAAAAAAEAAAoAAAAAAQAABAAAAAABAAAAAAAAAAEAAAIAAAAAAQAACgAAAAABAAAEAAAAAAEAAAAAAAAAAQAAAgAAAAABAAAKAAAAAAEAAAQAAAAAAQAAAAAAAAABAAACAAAAAAEAAAQAAAAAAQAACgAAAAABAAAEAAAAAAEAAAAAAAAAAQAAAgAAAAACAAAEAAAAAAEAAAoAAAAAAQAABAAAAAABAAAAAAAAAAEAAAIAAAAAAQAABgAAAAABAAACAAAAABxzdHNjAAAAAAAAAAEAAAABAAAAygAAAAEAAAM8c3RzegAAAAAAAAAAAAAAygAABcEAAAAaAAAAHwAAABQAAAATAAAAEwAAAB0AAAAcAAAAKQAAABoAAAATAAAAFAAAACAAAAAcAAAAIAAAABYAAAAUAAAAFAAAAB0AAAAwAAAAKQAAABMAAAAUAAAAHQAAAB0AAAAkAAAAGQAAABQAAAAUAAAAHgAAACYAAAAYAAAAFAAAABMAAAAeAAAAJgAAABgAAAATAAAAFAAAAB0AAAAZAAAAFAAAABQAAAAgAAAAFAAAABMAAAAUAAAAHwAAABQAAAAUAAAAEwAAABcAAAAVAAAAFAAAABQAAAAXAAAAEAAAABMAAAATAAAAFwAAABAAAAATAAAAEwAAACAAAAAUAAAAEwAAABQAAAAdAAAAKQAAABkAAAATAAAAFAAAACIAAAAWAAAAFAAAABMAAAAXAAAAEAAAABQAAAATAAAAFwAAABAAAAAUAAAAEwAAACgAAAAZAAAAFAAAABQAAAAdAAAAGQAAABQAAAAUAAAAIAAAABQAAAATAAAAEwAAABcAAAAQAAAAFAAAABMAAAAgAAAAFAAAABMAAAAUAAAAHQAAABQAAAAUAAAAEwAAABcAAAAQAAAAFAAAABMAAAAXAAAAEAAAABQAAAATAAAAFwAAABAAAAAUAAAAEwAAACAAAAAUAAAAEwAAABQAAAAdAAAAFAAAABMAAAATAAAAHgAAABQAAAATAAAAFAAAABcAAAAUAAAAEwAAABQAAAAXAAAAFAAAABQAAAAUAAAAFwAAABQAAAAUAAAAFAAAAB0AAAAUAAAAFAAAABMAAAAdAAAAFAAAABMAAAAUAAAAHgAAACQAAAAYAAAAFAAAABQAAAAWAAAAFwAAABQAAAAUAAAAHgAAAB4AAAAZAAAAFAAAABMAAAAoAAAAGQAAABMAAAAUAAAAHgAAAB0AAAAdAAAAIQAAABQAAAATAAAAFAAAAB4AAAAUAAAAEwAAABMAAAAWAAAAFwAAABQAAAATAAAAFgAAABQAAAAUAAAAFAAAAB0AAAAiAAAAGQAAABQAAAAUAAAAHQAAABwAAAAfAAAAFAAAABQAAAATAAAAHwAAACoAAAAUc3RjbwAAAAAAAAABAAAAMAAAAGJ1ZHRhAAAAWm1ldGEAAAAAAAAAIWhkbHIAAAAAAAAAAG1kaXJhcHBsAAAAAAAAAAAAAAAALWlsc3QAAAAlqXRvbwAAAB1kYXRhAAAAAQAAAABMYXZmNTYuNDAuMTAx\" type=\"video/mp4\" />\n",
       "             </video>"
      ],
      "text/plain": [
       "<IPython.core.display.HTML object>"
      ]
     },
     "execution_count": 72,
     "metadata": {},
     "output_type": "execute_result"
    }
   ],
   "source": [
    "HTML(display_videos('fc_train50.mp4'))"
   ]
  },
  {
   "cell_type": "code",
   "execution_count": 73,
   "metadata": {},
   "outputs": [
    {
     "name": "stderr",
     "output_type": "stream",
     "text": [
      "No handles with labels found to put in legend.\n"
     ]
    },
    {
     "data": {
      "image/png": "[encoded data removed]",
      "text/plain": [
       "<Figure size 432x288 with 1 Axes>"
      ]
     },
     "metadata": {
      "needs_background": "light"
     },
     "output_type": "display_data"
    },
    {
     "name": "stderr",
     "output_type": "stream",
     "text": [
      "No handles with labels found to put in legend.\n"
     ]
    },
    {
     "data": {
      "image/png": "[encoded data removed]",
      "text/plain": [
       "<Figure size 432x288 with 1 Axes>"
      ]
     },
     "metadata": {
      "needs_background": "light"
     },
     "output_type": "display_data"
    }
   ],
   "source": [
    "plt.plot(history_losses_dqn_fc,marker=\"+\",color=\"b\",label=\"\")\n",
    "plt.xlabel(\"episodes\") ; plt.ylabel(\"mean training loss during episod\") ; plt.legend()\n",
    "plt.show()\n",
    "\n",
    "plt.plot(history_scores_dqn_fc,marker=\"+\",color=\"r\",label=\"\")\n",
    "plt.xlabel(\"episodes\") ; plt.ylabel(\"score during episod (0.5*win-lose)\") ; plt.legend()\n",
    "plt.show()"
   ]
  },
  {
   "cell_type": "markdown",
   "metadata": {},
   "source": [
    "***\n",
    "***\n",
    "__Question 8__ Implement the DQN training algorithm using a CNN (for example, 2 convolutional layers and one final fully connected layer)."
   ]
  },
  {
   "cell_type": "markdown",
   "metadata": {},
   "source": [
    "> The convolutional network which led me to the best performances is the one above, composed of 2 convolutional layers with 16 small filters of size (2,2), each followed by relu activations, and 1 final fully connected layer. This convolutional network has exactly the same number of parameters as the previous fully connected network, but as we will see, it performs much better. I observed that a larger number of filters or size of filters was detrimental to the results. In addition, pooling layers particularly decreased performances (probably they compressed too much the information).  I again used a learning rate of 0.1, a memory of size 2000, and a batch size of 32 for the training of the CNN. \n",
    "\n",
    "> With the chosen CNN architecture, we can observe that wile the mean loss per episode oscillates throughout the training, the score per episode keeps increasing. This is not completely unexpected : indeed, as the rat plays better, it may encounter more difficult situations (with less cheese directly around him) and thus has to estimate more tricky Q-values. In addition, we are using the same network to estimate the Q target and the Q-value, thus we are getting closer to a target which is itself moving, hence leading to the loss oscillations."
   ]
  },
  {
   "cell_type": "code",
   "execution_count": 74,
   "metadata": {},
   "outputs": [],
   "source": [
    "class DQN_CNN(DQN):\n",
    "    def __init__(self, lr=0.1, *args, **kwargs):\n",
    "        super(DQN_CNN, self).__init__(*args,**kwargs)\n",
    "                \n",
    "        model = Sequential() \n",
    "    \n",
    "        model.add(Conv2D(16, (2, 2), activation='relu', input_shape=(5,5,self.n_state,)))\n",
    "        model.add(Conv2D(16, (2, 2), activation='relu'))\n",
    "        model.add(Flatten())\n",
    "        model.add(Dense(self.n_action))\n",
    "\n",
    "        model.summary()\n",
    "        \n",
    "        opt = sgd(lr=lr, decay=1e-4, momentum=0.0)\n",
    "        model.compile(loss=\"mse\", optimizer = opt)\n",
    "        \n",
    "        self.model = model"
   ]
  },
  {
   "cell_type": "code",
   "execution_count": 75,
   "metadata": {},
   "outputs": [
    {
     "name": "stdout",
     "output_type": "stream",
     "text": [
      "_________________________________________________________________\n",
      "Layer (type)                 Output Shape              Param #   \n",
      "=================================================================\n",
      "conv2d_29 (Conv2D)           (None, 4, 4, 16)          144       \n",
      "_________________________________________________________________\n",
      "conv2d_30 (Conv2D)           (None, 3, 3, 16)          1040      \n",
      "_________________________________________________________________\n",
      "flatten_19 (Flatten)         (None, 144)               0         \n",
      "_________________________________________________________________\n",
      "dense_23 (Dense)             (None, 4)                 580       \n",
      "=================================================================\n",
      "Total params: 1,764\n",
      "Trainable params: 1,764\n",
      "Non-trainable params: 0\n",
      "_________________________________________________________________\n",
      "Epoch 000/101 | Loss 0.0166 | Win/lose count 3.0/8.0 (-6.5)\n",
      "Epoch 001/101 | Loss 0.0053 | Win/lose count 3.5/3.0 (-1.25)\n",
      "Epoch 002/101 | Loss 0.0059 | Win/lose count 2.5/6.0 (-4.75)\n",
      "Epoch 003/101 | Loss 0.0057 | Win/lose count 3.5/1.0 (0.75)\n",
      "Epoch 004/101 | Loss 0.0051 | Win/lose count 2.5/0 (1.25)\n",
      "Epoch 005/101 | Loss 0.0061 | Win/lose count 1.5/2.0 (-1.25)\n",
      "Epoch 006/101 | Loss 0.0075 | Win/lose count 5.5/1.0 (1.75)\n",
      "Epoch 007/101 | Loss 0.0139 | Win/lose count 4.0/3.0 (-1.0)\n",
      "Epoch 008/101 | Loss 0.0130 | Win/lose count 4.0/2.0 (0.0)\n",
      "Epoch 009/101 | Loss 0.0123 | Win/lose count 2.5/4.0 (-2.75)\n",
      "Epoch 010/101 | Loss 0.0119 | Win/lose count 4.0/0 (2.0)\n",
      "Epoch 011/101 | Loss 0.0095 | Win/lose count 5.0/3.0 (-0.5)\n",
      "Epoch 012/101 | Loss 0.0109 | Win/lose count 3.5/1.0 (0.75)\n",
      "Epoch 013/101 | Loss 0.0121 | Win/lose count 5.5/3.0 (-0.25)\n",
      "Epoch 014/101 | Loss 0.0113 | Win/lose count 4.5/0 (2.25)\n",
      "Epoch 015/101 | Loss 0.0072 | Win/lose count 7.0/2.0 (1.5)\n",
      "Epoch 016/101 | Loss 0.0144 | Win/lose count 1.0/1.0 (-0.5)\n",
      "Epoch 017/101 | Loss 0.0105 | Win/lose count 1.0/1.0 (-0.5)\n",
      "Epoch 018/101 | Loss 0.0132 | Win/lose count 7.5/2.0 (1.75)\n",
      "Epoch 019/101 | Loss 0.0124 | Win/lose count 6.5/2.0 (1.25)\n",
      "Epoch 020/101 | Loss 0.0122 | Win/lose count 3.0/2.0 (-0.5)\n",
      "Epoch 021/101 | Loss 0.0102 | Win/lose count 8.5/2.0 (2.25)\n",
      "Epoch 022/101 | Loss 0.0111 | Win/lose count 10.5/3.0 (2.25)\n",
      "Epoch 023/101 | Loss 0.0103 | Win/lose count 11.0/2.0 (3.5)\n",
      "Epoch 024/101 | Loss 0.0138 | Win/lose count 11.0/1.0 (4.5)\n",
      "Epoch 025/101 | Loss 0.0099 | Win/lose count 7.5/3.0 (0.75)\n",
      "Epoch 026/101 | Loss 0.0090 | Win/lose count 10.5/3.0 (2.25)\n",
      "Epoch 027/101 | Loss 0.0104 | Win/lose count 15.0/4.0 (3.5)\n",
      "Epoch 028/101 | Loss 0.0096 | Win/lose count 17.0/2.0 (6.5)\n",
      "Epoch 029/101 | Loss 0.0123 | Win/lose count 11.5/2.0 (3.75)\n",
      "Epoch 030/101 | Loss 0.0112 | Win/lose count 9.5/2.0 (2.75)\n",
      "Epoch 031/101 | Loss 0.0131 | Win/lose count 8.5/4.0 (0.25)\n",
      "Epoch 032/101 | Loss 0.0115 | Win/lose count 12.0/1.0 (5.0)\n",
      "Epoch 033/101 | Loss 0.0081 | Win/lose count 15.0/5.0 (2.5)\n",
      "Epoch 034/101 | Loss 0.0091 | Win/lose count 15.5/4.0 (3.75)\n",
      "Epoch 035/101 | Loss 0.0127 | Win/lose count 18.5/3.0 (6.25)\n",
      "Epoch 036/101 | Loss 0.0116 | Win/lose count 20.0/6.0 (4.0)\n",
      "Epoch 037/101 | Loss 0.0124 | Win/lose count 10.0/1.0 (4.0)\n",
      "Epoch 038/101 | Loss 0.0119 | Win/lose count 11.0/4.0 (1.5)\n",
      "Epoch 039/101 | Loss 0.0094 | Win/lose count 14.5/3.0 (4.25)\n",
      "Epoch 040/101 | Loss 0.0095 | Win/lose count 26.0/4.0 (9.0)\n",
      "Epoch 041/101 | Loss 0.0098 | Win/lose count 11.5/0 (5.75)\n",
      "Epoch 042/101 | Loss 0.0125 | Win/lose count 17.0/5.0 (3.5)\n",
      "Epoch 043/101 | Loss 0.0099 | Win/lose count 9.0/4.0 (0.5)\n",
      "Epoch 044/101 | Loss 0.0133 | Win/lose count 18.5/2.0 (7.25)\n",
      "Epoch 045/101 | Loss 0.0092 | Win/lose count 12.0/2.0 (4.0)\n",
      "Epoch 046/101 | Loss 0.0101 | Win/lose count 14.5/3.0 (4.25)\n",
      "Epoch 047/101 | Loss 0.0111 | Win/lose count 15.5/4.0 (3.75)\n",
      "Epoch 048/101 | Loss 0.0076 | Win/lose count 18.0/4.0 (5.0)\n",
      "Epoch 049/101 | Loss 0.0115 | Win/lose count 27.0/3.0 (10.5)\n",
      "Epoch 050/101 | Loss 0.0123 | Win/lose count 10.0/0 (5.0)\n",
      "Epoch 051/101 | Loss 0.0129 | Win/lose count 16.5/1.0 (7.25)\n",
      "Epoch 052/101 | Loss 0.0110 | Win/lose count 14.0/2.0 (5.0)\n",
      "Epoch 053/101 | Loss 0.0107 | Win/lose count 21.5/1.0 (9.75)\n",
      "Epoch 054/101 | Loss 0.0108 | Win/lose count 13.5/2.0 (4.75)\n",
      "Epoch 055/101 | Loss 0.0125 | Win/lose count 17.0/1.0 (7.5)\n",
      "Epoch 056/101 | Loss 0.0115 | Win/lose count 14.0/3.0 (4.0)\n",
      "Epoch 057/101 | Loss 0.0090 | Win/lose count 17.5/2.0 (6.75)\n",
      "Epoch 058/101 | Loss 0.0111 | Win/lose count 16.0/3.0 (5.0)\n",
      "Epoch 059/101 | Loss 0.0090 | Win/lose count 15.0/3.0 (4.5)\n",
      "Epoch 060/101 | Loss 0.0109 | Win/lose count 17.5/1.0 (7.75)\n",
      "Epoch 061/101 | Loss 0.0108 | Win/lose count 14.5/4.0 (3.25)\n",
      "Epoch 062/101 | Loss 0.0096 | Win/lose count 17.0/6.0 (2.5)\n",
      "Epoch 063/101 | Loss 0.0104 | Win/lose count 21.5/2.0 (8.75)\n",
      "Epoch 064/101 | Loss 0.0116 | Win/lose count 17.0/4.0 (4.5)\n",
      "Epoch 065/101 | Loss 0.0127 | Win/lose count 14.5/2.0 (5.25)\n",
      "Epoch 066/101 | Loss 0.0104 | Win/lose count 17.0/2.0 (6.5)\n",
      "Epoch 067/101 | Loss 0.0104 | Win/lose count 10.0/4.0 (1.0)\n",
      "Epoch 068/101 | Loss 0.0109 | Win/lose count 21.5/3.0 (7.75)\n",
      "Epoch 069/101 | Loss 0.0107 | Win/lose count 20.5/3.0 (7.25)\n",
      "Epoch 070/101 | Loss 0.0110 | Win/lose count 22.0/6.0 (5.0)\n",
      "Epoch 071/101 | Loss 0.0114 | Win/lose count 23.0/1.0 (10.5)\n",
      "Epoch 072/101 | Loss 0.0101 | Win/lose count 15.0/5.0 (2.5)\n",
      "Epoch 073/101 | Loss 0.0126 | Win/lose count 23.0/1.0 (10.5)\n",
      "Epoch 074/101 | Loss 0.0107 | Win/lose count 19.0/3.0 (6.5)\n",
      "Epoch 075/101 | Loss 0.0102 | Win/lose count 14.0/5.0 (2.0)\n",
      "Epoch 076/101 | Loss 0.0103 | Win/lose count 12.0/2.0 (4.0)\n",
      "Epoch 077/101 | Loss 0.0114 | Win/lose count 16.5/1.0 (7.25)\n",
      "Epoch 078/101 | Loss 0.0100 | Win/lose count 23.0/0 (11.5)\n",
      "Epoch 079/101 | Loss 0.0120 | Win/lose count 17.0/2.0 (6.5)\n",
      "Epoch 080/101 | Loss 0.0098 | Win/lose count 19.0/2.0 (7.5)\n",
      "Epoch 081/101 | Loss 0.0104 | Win/lose count 6.5/2.0 (1.25)\n",
      "Epoch 082/101 | Loss 0.0104 | Win/lose count 25.0/0 (12.5)\n",
      "Epoch 083/101 | Loss 0.0123 | Win/lose count 23.0/3.0 (8.5)\n",
      "Epoch 084/101 | Loss 0.0101 | Win/lose count 15.0/1.0 (6.5)\n",
      "Epoch 085/101 | Loss 0.0133 | Win/lose count 11.5/3.0 (2.75)\n",
      "Epoch 086/101 | Loss 0.0092 | Win/lose count 13.0/2.0 (4.5)\n",
      "Epoch 087/101 | Loss 0.0103 | Win/lose count 21.5/3.0 (7.75)\n",
      "Epoch 088/101 | Loss 0.0067 | Win/lose count 24.5/5.0 (7.25)\n",
      "Epoch 089/101 | Loss 0.0127 | Win/lose count 17.0/4.0 (4.5)\n",
      "Epoch 090/101 | Loss 0.0114 | Win/lose count 21.5/4.0 (6.75)\n",
      "Epoch 091/101 | Loss 0.0077 | Win/lose count 15.5/3.0 (4.75)\n",
      "Epoch 092/101 | Loss 0.0118 | Win/lose count 19.5/3.0 (6.75)\n",
      "Epoch 093/101 | Loss 0.0098 | Win/lose count 15.5/3.0 (4.75)\n",
      "Epoch 094/101 | Loss 0.0094 | Win/lose count 23.5/6.0 (5.75)\n",
      "Epoch 095/101 | Loss 0.0100 | Win/lose count 19.0/3.0 (6.5)\n",
      "Epoch 096/101 | Loss 0.0112 | Win/lose count 20.0/2.0 (8.0)\n",
      "Epoch 097/101 | Loss 0.0105 | Win/lose count 18.5/2.0 (7.25)\n",
      "Epoch 098/101 | Loss 0.0088 | Win/lose count 15.0/3.0 (4.5)\n",
      "Epoch 099/101 | Loss 0.0101 | Win/lose count 10.5/2.0 (3.25)\n",
      "Epoch 100/101 | Loss 0.0088 | Win/lose count 11.5/2.0 (3.75)\n"
     ]
    },
    {
     "data": {
      "image/png": "[encoded data removed]",
      "text/plain": [
       "<Figure size 432x288 with 1 Axes>"
      ]
     },
     "metadata": {
      "needs_background": "light"
     },
     "output_type": "display_data"
    },
    {
     "data": {
      "image/png": "[encoded data removed]",
      "text/plain": [
       "<Figure size 432x288 with 1 Axes>"
      ]
     },
     "metadata": {
      "needs_background": "light"
     },
     "output_type": "display_data"
    },
    {
     "data": {
      "text/html": [
       "<video alt=\"test\" controls>\n",
       "                <source src=\"data:video/mp4;base64,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\" type=\"video/mp4\" />\n",
       "             </video>"
      ],
      "text/plain": [
       "<IPython.core.display.HTML object>"
      ]
     },
     "execution_count": 75,
     "metadata": {},
     "output_type": "execute_result"
    }
   ],
   "source": [
    "env = Environment(grid_size=size, max_time=T, temperature=temperature)\n",
    "agent_dqn_cnn = DQN_CNN(grid_size=size, lr=.1, epsilon = 0.1, memory_size=2000, batch_size = 32)\n",
    "history_losses_dqn_cnn, history_scores_dqn_cnn = train(agent_dqn_cnn,env,epochs_train,prefix='cnn_train')\n",
    "\n",
    "plt.plot(history_losses_dqn_fc,marker=\"+\",color=\"b\",label=\"dqn_fc\")\n",
    "plt.plot(history_losses_dqn_cnn,marker=\"+\",color=\"r\",label=\"dqn_cnn\")\n",
    "plt.xlabel(\"episodes\") ; plt.ylabel(\"mean training loss during episod\") ; plt.legend()\n",
    "plt.show()\n",
    "\n",
    "plt.plot(history_scores_dqn_fc,marker=\"+\",color=\"b\",label=\"dqn_fc\")\n",
    "plt.plot(history_scores_dqn_cnn,marker=\"+\",color=\"r\",label=\"dqn_cnn\")\n",
    "plt.xlabel(\"episodes\") ; plt.ylabel(\"score during episod (0.5*win-lose)\") ; plt.legend()\n",
    "plt.show()\n",
    "\n",
    "HTML(display_videos('cnn_train50.mp4'))"
   ]
  },
  {
   "cell_type": "markdown",
   "metadata": {},
   "source": [
    "***\n",
    "***\n",
    "__Question 9__ Test both algorithms and compare their performances. Which issue(s) do you observe? Observe also different behaviors by changing the temperature.\n",
    "\n",
    "> The two networks I compared are the two presented above which led the best performances for each type :  the FCN with one hidden layer with 32 neurons (followed by relu), and the CNN with 2 convolutional layers (16 small filters of size (2,2) each followed by relu) and the final dense layer. Recall that I used the samed learning rate of 0.1, the same size of memory of (2000), and the same size of batch (32) for the training of the two networks.\n",
    "\n",
    "> What's make the comparison particularly interesting is that the two networks architectures, the FC and the CNN, share the same number of parameters (1,764).\n",
    "\n",
    "> Below is a summary of the test performances obtained for various temperatures, training the agent with constant $\\epsilon$=0.1, and for the environment temperature equal to 0.3. Recall that the temperature parameter corresponds to the probability that each cell contains a cheese, and to the probability that each cell which does not contain a cheese contains a poison.\n",
    "\n",
    "\n",
    "| Test temperature | 0.1  | 0.3 | 0.5 |\n",
    "|------|------|------|------|\n",
    "|  DQN-FC - Test Score | | | | | |\n",
    "|  DQN-CNN - Test Score | | | | | |\n",
    "\n",
    "> Note : Recall that I also change the score metric from win-lose to 0.5*win-lose which seemed to me more relevant as cheeses give a reward of 0.5 while poison give a -1 reward\n",
    "\n",
    "> Comments : We observe that the higher the test tempertaure, the more the CNN outperforms the FC network. As the two networks have exactly the same capacity (same number of parameters), these experiments tend to show that the convolutional architecture is very appropriate for the task.\n",
    "\n",
    "> However, we observe the issue that, throughout the training and at test time, the agent has explored only one part of the map.  We can see this behaviour notably when the rat does not see any positive reward around him : in such cases which appear for low environment temperatures, the rat often transits from a state to another to go back to the original one several times. Therefore, I will implement below the two advised strategies to favor exploration : the decreasing $\\epsilon$-greedy policy, and the array storing the visited cells by the rat."
   ]
  },
  {
   "cell_type": "code",
   "execution_count": 76,
   "metadata": {},
   "outputs": [
    {
     "name": "stdout",
     "output_type": "stream",
     "text": [
      "_________________________________________________________________\n",
      "Layer (type)                 Output Shape              Param #   \n",
      "=================================================================\n",
      "conv2d_31 (Conv2D)           (None, 4, 4, 16)          144       \n",
      "_________________________________________________________________\n",
      "conv2d_32 (Conv2D)           (None, 3, 3, 16)          1040      \n",
      "_________________________________________________________________\n",
      "flatten_20 (Flatten)         (None, 144)               0         \n",
      "_________________________________________________________________\n",
      "dense_24 (Dense)             (None, 4)                 580       \n",
      "=================================================================\n",
      "Total params: 1,764\n",
      "Trainable params: 1,764\n",
      "Non-trainable params: 0\n",
      "_________________________________________________________________\n",
      "_________________________________________________________________\n",
      "Layer (type)                 Output Shape              Param #   \n",
      "=================================================================\n",
      "flatten_21 (Flatten)         (None, 50)                0         \n",
      "_________________________________________________________________\n",
      "dense_25 (Dense)             (None, 32)                1632      \n",
      "_________________________________________________________________\n",
      "activation_5 (Activation)    (None, 32)                0         \n",
      "_________________________________________________________________\n",
      "dense_26 (Dense)             (None, 4)                 132       \n",
      "=================================================================\n",
      "Total params: 1,764\n",
      "Trainable params: 1,764\n",
      "Non-trainable params: 0\n",
      "_________________________________________________________________\n",
      "TEMPERATURE :  0.1\n",
      "Test of the CNN\n",
      "Win/lose count 2.5/0. Average score (1.25)\n",
      "Win/lose count 3.5/0. Average score (1.5)\n",
      "Win/lose count 5.5/0. Average score (1.9166666666666667)\n",
      "Win/lose count 2.0/0. Average score (1.6875)\n",
      "Win/lose count 8.5/0. Average score (2.2)\n",
      "Win/lose count 3.0/0. Average score (2.0833333333333335)\n",
      "Win/lose count 2.0/0. Average score (1.9285714285714286)\n",
      "Win/lose count 2.5/0. Average score (1.84375)\n",
      "Win/lose count 3.5/0. Average score (1.8333333333333333)\n",
      "Win/lose count 9.0/0. Average score (2.1)\n",
      "Win/lose count 2.5/0. Average score (2.022727272727273)\n",
      "Final score: 2.022727272727273\n",
      "Test of the FC\n",
      "Win/lose count 2.0/0. Average score (1.0)\n",
      "Win/lose count 0/0. Average score (0.5)\n",
      "Win/lose count 0/0. Average score (0.3333333333333333)\n",
      "Win/lose count 6.5/0. Average score (1.0625)\n",
      "Win/lose count 0.5/0. Average score (0.9)\n",
      "Win/lose count 5.0/0. Average score (1.1666666666666667)\n",
      "Win/lose count 5.5/0. Average score (1.3928571428571428)\n",
      "Win/lose count 2.0/0. Average score (1.34375)\n",
      "Win/lose count 0.5/0. Average score (1.2222222222222223)\n",
      "Win/lose count 2.5/0. Average score (1.225)\n",
      "Win/lose count 2.0/0. Average score (1.2045454545454546)\n",
      "Final score: 1.2045454545454546\n",
      "TEMPERATURE :  0.3\n",
      "Test of the CNN\n",
      "Win/lose count 16.5/1.0. Average score (7.25)\n",
      "Win/lose count 11.5/0. Average score (6.5)\n",
      "Win/lose count 11.0/0. Average score (6.166666666666667)\n",
      "Win/lose count 16.5/0. Average score (6.6875)\n",
      "Win/lose count 16.5/1.0. Average score (6.8)\n",
      "Win/lose count 1.0/0. Average score (5.75)\n",
      "Win/lose count 11.0/0. Average score (5.714285714285714)\n",
      "Win/lose count 14.0/0. Average score (5.875)\n",
      "Win/lose count 11.0/0. Average score (5.833333333333333)\n",
      "Win/lose count 4.0/0. Average score (5.45)\n",
      "Win/lose count 6.5/0. Average score (5.25)\n",
      "Final score: 5.25\n",
      "Test of the FC\n",
      "Win/lose count 0.5/0. Average score (0.25)\n",
      "Win/lose count 2.5/0. Average score (0.75)\n",
      "Win/lose count 6.5/0. Average score (1.5833333333333333)\n",
      "Win/lose count 6.0/0. Average score (1.9375)\n",
      "Win/lose count 4.0/0. Average score (1.95)\n",
      "Win/lose count 1.0/0. Average score (1.7083333333333333)\n",
      "Win/lose count 18.5/0. Average score (2.7857142857142856)\n",
      "Win/lose count 3.0/0. Average score (2.625)\n",
      "Win/lose count 9.0/0. Average score (2.8333333333333335)\n",
      "Win/lose count 8.5/0. Average score (2.975)\n",
      "Win/lose count 9.0/0. Average score (3.1136363636363638)\n",
      "Final score: 3.1136363636363638\n",
      "TEMPERATURE :  0.5\n",
      "Test of the CNN\n",
      "Win/lose count 35.0/0. Average score (17.5)\n",
      "Win/lose count 7.0/0. Average score (10.5)\n",
      "Win/lose count 14.5/0. Average score (9.416666666666666)\n",
      "Win/lose count 38.0/0. Average score (11.8125)\n",
      "Win/lose count 1.0/0. Average score (9.55)\n",
      "Win/lose count 31.5/1.0. Average score (10.416666666666666)\n",
      "Win/lose count 16.0/0. Average score (10.071428571428571)\n",
      "Win/lose count 33.0/1.0. Average score (10.75)\n",
      "Win/lose count 16.5/0. Average score (10.472222222222221)\n",
      "Win/lose count 10.0/0. Average score (9.925)\n",
      "Win/lose count 4.5/0. Average score (9.227272727272727)\n",
      "Final score: 9.227272727272727\n",
      "Test of the FC\n",
      "Win/lose count 1.0/0. Average score (0.5)\n",
      "Win/lose count 21.5/0. Average score (5.625)\n",
      "Win/lose count 18.5/0. Average score (6.833333333333333)\n",
      "Win/lose count 4.5/0. Average score (5.6875)\n",
      "Win/lose count 19.0/0. Average score (6.45)\n",
      "Win/lose count 7.0/0. Average score (5.958333333333333)\n",
      "Win/lose count 14.5/0. Average score (6.142857142857143)\n",
      "Win/lose count 6.5/0. Average score (5.78125)\n",
      "Win/lose count 7.5/0. Average score (5.555555555555555)\n",
      "Win/lose count 1.0/0. Average score (5.05)\n",
      "Win/lose count 3.0/0. Average score (4.7272727272727275)\n",
      "Final score: 4.7272727272727275\n"
     ]
    }
   ],
   "source": [
    "agent_dqn_cnn = DQN_CNN(grid_size=size, lr=.1, epsilon = 0.1, memory_size=2000, batch_size = 32)\n",
    "agent_dqn_cnn.load(name_weights='cnn_trainmodel.h5',name_model='cnn_trainmodel.json')\n",
    "\n",
    "agent_dqn_fc = DQN_FC(grid_size=size, lr=.1, epsilon = 0.1, memory_size=2000, batch_size = 32)\n",
    "agent_dqn_fc.load(name_weights='fc_trainmodel.h5',name_model='fc_trainmodel.json')\n",
    "\n",
    "for temp in [0.1, 0.3, 0.5]:\n",
    "    print(\"TEMPERATURE : \", str(temp))\n",
    "    env = Environment(grid_size=size, max_time=T,temperature=temp)\n",
    "\n",
    "    print('Test of the CNN')\n",
    "    test(agent_dqn_cnn,env,epochs_test,prefix='cnn_test_'+str(temp)+'_')\n",
    "    print('Test of the FC')\n",
    "    test(agent_dqn_fc,env,epochs_test,prefix='fc_test_'+str(temp)+'_')"
   ]
  },
  {
   "cell_type": "code",
   "execution_count": 77,
   "metadata": {},
   "outputs": [
    {
     "data": {
      "text/html": [
       "<video alt=\"test\" controls>\n",
       "                <source src=\"data:video/mp4;base64,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\" type=\"video/mp4\" />\n",
       "             </video>"
      ],
      "text/plain": [
       "<IPython.core.display.HTML object>"
      ]
     },
     "execution_count": 77,
     "metadata": {},
     "output_type": "execute_result"
    }
   ],
   "source": [
    "HTML(display_videos('cnn_test_0.1_10.mp4'))"
   ]
  },
  {
   "cell_type": "code",
   "execution_count": null,
   "metadata": {},
   "outputs": [],
   "source": [
    "HTML(display_videos('cnn_test_0.3_5.mp4'))"
   ]
  },
  {
   "cell_type": "code",
   "execution_count": 79,
   "metadata": {},
   "outputs": [
    {
     "data": {
      "text/html": [
       "<video alt=\"test\" controls>\n",
       "                <source src=\"data:video/mp4;base64,AAAAIGZ0eXBpc29tAAACAGlzb21pc28yYXZjMW1wNDEAAAAIZnJlZQAAFsBtZGF0AAACrQYF//+p3EXpvebZSLeWLNgg2SPu73gyNjQgLSBjb3JlIDE0OCByMjY0MyA1YzY1NzA0IC0gSC4yNjQvTVBFRy00IEFWQyBjb2RlYyAtIENvcHlsZWZ0IDIwMDMtMjAxNSAtIGh0dHA6Ly93d3cudmlkZW9sYW4ub3JnL3gyNjQuaHRtbCAtIG9wdGlvbnM6IGNhYmFjPTEgcmVmPTMgZGVibG9jaz0xOjA6MCBhbmFseXNlPTB4MzoweDExMyBtZT1oZXggc3VibWU9NyBwc3k9MSBwc3lfcmQ9MS4wMDowLjAwIG1peGVkX3JlZj0xIG1lX3JhbmdlPTE2IGNocm9tYV9tZT0xIHRyZWxsaXM9MSA4eDhkY3Q9MSBjcW09MCBkZWFkem9uZT0yMSwxMSBmYXN0X3Bza2lwPTEgY2hyb21hX3FwX29mZnNldD00IHRocmVhZHM9OCBsb29rYWhlYWRfdGhyZWFkcz0xIHNsaWNlZF90aHJlYWRzPTAgbnI9MCBkZWNpbWF0ZT0xIGludGVybGFjZWQ9MCBibHVyYXlfY29tcGF0PTAgY29uc3RyYWluZWRfaW50cmE9MCBiZnJhbWVzPTMgYl9weXJhbWlkPTIgYl9hZGFwdD0xIGJfYmlhcz0wIGRpcmVjdD0xIHdlaWdodGI9MSBvcGVuX2dvcD0wIHdlaWdodHA9MiBrZXlpbnQ9MjUwIGtleWludF9taW49MjUgc2NlbmVjdXQ9NDAgaW50cmFfcmVmcmVzaD0wIHJjX2xvb2thaGVhZD00MCByYz1jcmYgbWJ0cmVlPTEgY3JmPTIzLjAgcWNvbXA9MC42MCBxcG1pbj0wIHFwbWF4PTY5IHFwc3RlcD00IGlwX3JhdGlvPTEuNDAgYXE9MToxLjAwAIAAAAMwZYiEADv//vb8/AptUwndP/9P+VxN2UIE1zAALTEAIgTYlI7FKYvwKUU8/ApmttTF/97HUmEYlMR4bbT+sv1XgPaBS87dzEO/N1/Ib/2yd2h3+VWYIUSDGMN28hNQ7evHHl+xj8WT/Y0e/2FyAnDLc9Llv1w3fRs8E2XT79D3GaT1FcEm5l8sVQ9kHQkyDIqd2NhoBOGpVgNRPUb8r3pOjVDvHT3Lx/I/+gF1cw9XTqjReRlSqZYzVL1rTR3zJ93qqHU38be4IuaPJct8++0f6Z502GDEgLlpBE7RVLSZg0gzUMmD0g/qH64cDW2brM04FrwO6GQhIZVK5fJkLy1/nBGkGRfDIKHjkuSv7ftP0pctJ3W7PhdQjfCg983O/5CgxWRLAVDjDL5Dru2ZHGeUkTASFhceSbi8AvULUw6egsi142bLrmHRdWEEDjggWEaCItfN9kmU4EtLxT4BtED4HJG3IVTJgdHFSlHUQkRiezaYxQySGDfVIal5CDW10kAhITPLKXaLpzhs4xunPbK7f5dzIZtGetR15uVeEsPuO+ZvbOzLhaufuY8ZNwhlY0DHJvW0wdiZsp/v5yis/oT79+5IuN+J554Zss/LDv5MDHP3Tp7A9uHNS2UEyrnnqACqDpcyDdEkZsm1G5HTXox/NzNvdyaPq2vddAhl0Ts2WAdUxackkxnoMCj8qSBeed7wjkeg1PkDB2Z6GLSuHoavg9DX/HibcaP/WoKtqj+dPJOeOxTpM90iqUMFg9uPQ4pHX1JmHJ6DuHwzeemXsOfGWHxng24ATE3pvJnIiANUrGLeS1ASKxafeWKdsjikE+h6OtwIXTX5aveyzD238iqi5z3AY8TFzlPhOf9PIN/5K/QR1e6Bo56HHNhyr2xh1v8Tq2YqgAwFoWQ69YHSuQOcTEsY23DO1PCcby4ff7reBrn2h7N/iLoYyhVce6KYdMF2O2/YZnDwTDdVYgsNCxR+0EBja3McdrmGspV6a+07ZhuQaZnocKk5JP+IPYCbn3laESH9sxwThxndwaV4JU07ZDtfJSrfajh5tYWOA2lyM/TchCSwWd500qW1NjwgAImBAAAAI0GaJGxDv/6plgLlyS9Am34hB1/+EqoZv//J44HsI7kPteEzAAAAFEGeQniF/wGIEnZv9+n7tOjhdcvBAAAAEAGeYXRCvwFa6Ac7Y40z6CAAAAAQAZ5jakK/AgqjRMiXAoBqQQAAAExBmmhJqEFomUwIb//+p4QFL40/JNOZEs6LfmvxgZ//iElhi4bahowlYlxIlhN//8QOtHDWxOEKYouqf//iEHUnhtRH0JK6TIHWnUYtAAAAFUGehkURLC//AXr7Q2tR+uRbeFJtSQAAABABnqV0Qr8B+OrRkln9ZaSBAAAADwGep2pCvwE/aymbZkayLgAAABpBmqlJqEFsmUwId//+qZYB9JISbSoKPhI3oAAAABZBms1J4QpSZTAh3/6plgHV6AH/jFGpAAAADkGe60U0TC//AVFlQDUgAAAAEAGfCnRCvwHSaViqmI6VkXAAAAAQAZ8MakK/AdJvAc08I6VkXQAAABNBmxFJqEFomUwId//+qZYAAJWBAAAADEGfL0URLC//AACygQAAABIBn050Qr8B0iQ1QDmiZch0VsAAAAASAZ9QakK/AdGGKJV24FigLIuAAAAAE0GbVUmoQWyZTAh3//6plgAAlYEAAAAMQZ9zRRUsL/8AALKAAAAAEgGfknRCvwHSJDVAOaJlyHRWwAAAABIBn5RqQr8B0YYolXbgWKAsi4EAAAATQZuZSahBbJlMCHf//qmWAACVgAAAAAxBn7dFFSwv/wAAsoEAAAASAZ/WdEK/AdIkNUA5omXIdFbBAAAAEgGf2GpCvwHRhiiVduBYoCyLgAAAABNBm91JqEFsmUwId//+qZYAAJWBAAAADEGf+0UVLC//AACygAAAABIBnhp0Qr8B0iQ1QDmiZch0VsEAAAASAZ4cakK/AdGGKJV24FigLIuBAAAAE0GaAUmoQWyZTAh3//6plgAAlYAAAAAMQZ4/RRUsL/8AALKAAAAAEgGeXnRCvwHSJDVAOaJlyHRWwQAAABIBnkBqQr8B0YYolXbgWKAsi4AAAAATQZpFSahBbJlMCHf//qmWAACVgQAAAAxBnmNFFSwv/wAAsoAAAAASAZ6CdEK/AdIkNUA5omXIdFbBAAAAEgGehGpCvwHRhiiVduBYoCyLgQAAABNBmolJqEFsmUwId//+qZYAAJWBAAAADEGep0UVLC//AACygQAAABIBnsZ0Qr8B0iQ1QDmiZch0VsAAAAASAZ7IakK/AdGGKJV24FigLIuAAAAAE0GazUmoQWyZTAh3//6plgAAlYEAAAAMQZ7rRRUsL/8AALKAAAAAEgGfCnRCvwHSJDVAOaJlyHRWwAAAABIBnwxqQr8B0YYolXbgWKAsi4EAAAATQZsRSahBbJlMCHf//qmWAACVgQAAAAxBny9FFSwv/wAAsoEAAAASAZ9OdEK/AdIkNUA5omXIdFbAAAAAEgGfUGpCvwHRhiiVduBYoCyLgAAAABNBm1VJqEFsmUwId//+qZYAAJWBAAAADEGfc0UVLC//AACygAAAABIBn5J0Qr8B0iQ1QDmiZch0VsAAAAASAZ+UakK/AdGGKJV24FigLIuBAAAAE0GbmUmoQWyZTAh3//6plgAAlYAAAAAMQZ+3RRUsL/8AALKBAAAAEgGf1nRCvwHSJDVAOaJlyHRWwQAAABIBn9hqQr8B0YYolXbgWKAsi4AAAAATQZvdSahBbJlMCHf//qmWAACVgQAAAAxBn/tFFSwv/wAAsoAAAAASAZ4adEK/AdIkNUA5omXIdFbBAAAAEgGeHGpCvwHRhiiVduBYoCyLgQAAABNBmgFJqEFsmUwId//+qZYAAJWAAAAADEGeP0UVLC//AACygAAAABIBnl50Qr8B0iQ1QDmiZch0VsEAAAASAZ5AakK/AdGGKJV24FigLIuAAAAAE0GaRUmoQWyZTAh3//6plgAAlYEAAAAMQZ5jRRUsL/8AALKAAAAAEgGegnRCvwHSJDVAOaJlyHRWwQAAABIBnoRqQr8B0YYolXbgWKAsi4EAAAATQZqJSahBbJlMCHf//qmWAACVgQAAAAxBnqdFFSwv/wAAsoEAAAASAZ7GdEK/AdIkNUA5omXIdFbAAAAAEgGeyGpCvwHRhiiVduBYoCyLgAAAABNBms1JqEFsmUwId//+qZYAAJWBAAAADEGe60UVLC//AACygAAAABIBnwp0Qr8B0iQ1QDmiZch0VsAAAAASAZ8MakK/AdGGKJV24FigLIuBAAAAE0GbEUmoQWyZTAh3//6plgAAlYEAAAAMQZ8vRRUsL/8AALKBAAAAEgGfTnRCvwHSJDVAOaJlyHRWwAAAABIBn1BqQr8B0YYolXbgWKAsi4AAAAATQZtVSahBbJlMCHf//qmWAACVgQAAAAxBn3NFFSwv/wAAsoAAAAASAZ+SdEK/AdIkNUA5omXIdFbAAAAAEgGflGpCvwHRhiiVduBYoCyLgQAAABNBm5lJqEFsmUwId//+qZYAAJWAAAAADEGft0UVLC//AACygQAAABIBn9Z0Qr8B0iQ1QDmiZch0VsEAAAASAZ/YakK/AdGGKJV24FigLIuAAAAAE0Gb3UmoQWyZTAh3//6plgAAlYEAAAAMQZ/7RRUsL/8AALKAAAAAEgGeGnRCvwHSJDVAOaJlyHRWwQAAABIBnhxqQr8B0YYolXbgWKAsi4EAAAATQZoBSahBbJlMCHf//qmWAACVgAAAAAxBnj9FFSwv/wAAsoAAAAASAZ5edEK/AdIkNUA5omXIdFbBAAAAEgGeQGpCvwHRhiiVduBYoCyLgAAAABNBmkVJqEFsmUwId//+qZYAAJWBAAAADEGeY0UVLC//AACygAAAABIBnoJ0Qr8B0iQ1QDmiZch0VsEAAAASAZ6EakK/AdGGKJV24FigLIuBAAAAE0GaiUmoQWyZTAh3//6plgAAlYEAAAAMQZ6nRRUsL/8AALKBAAAAEgGexnRCvwHSJDVAOaJlyHRWwAAAABIBnshqQr8B0YYolXbgWKAsi4AAAAATQZrNSahBbJlMCHf//qmWAACVgQAAAAxBnutFFSwv/wAAsoAAAAASAZ8KdEK/AdIkNUA5omXIdFbAAAAAEgGfDGpCvwHRhiiVduBYoCyLgQAAABNBmxFJqEFsmUwId//+qZYAAJWBAAAADEGfL0UVLC//AACygQAAABIBn050Qr8B0iQ1QDmiZch0VsAAAAASAZ9QakK/AdGGKJV24FigLIuAAAAAE0GbVUmoQWyZTAh3//6plgAAlYEAAAAMQZ9zRRUsL/8AALKAAAAAEgGfknRCvwHSJDVAOaJlyHRWwAAAABIBn5RqQr8B0YYolXbgWKAsi4EAAAATQZuZSahBbJlMCHf//qmWAACVgAAAAAxBn7dFFSwv/wAAsoEAAAASAZ/WdEK/AdIkNUA5omXIdFbBAAAAEgGf2GpCvwHRhiiVduBYoCyLgAAAABNBm91JqEFsmUwId//+qZYAAJWBAAAADEGf+0UVLC//AACygAAAABIBnhp0Qr8B0iQ1QDmiZch0VsEAAAASAZ4cakK/AdGGKJV24FigLIuBAAAAE0GaAUmoQWyZTAh3//6plgAAlYAAAAAMQZ4/RRUsL/8AALKAAAAAEgGeXnRCvwHSJDVAOaJlyHRWwQAAABIBnkBqQr8B0YYolXbgWKAsi4AAAAATQZpFSahBbJlMCHf//qmWAACVgQAAAAxBnmNFFSwv/wAAsoAAAAASAZ6CdEK/AdIkNUA5omXIdFbBAAAAEgGehGpCvwHRhiiVduBYoCyLgQAAABNBmolJqEFsmUwId//+qZYAAJWBAAAADEGep0UVLC//AACygQAAABIBnsZ0Qr8B0iQ1QDmiZch0VsAAAAASAZ7IakK/AdGGKJV24FigLIuAAAAAE0GazUmoQWyZTAh3//6plgAAlYEAAAAMQZ7rRRUsL/8AALKAAAAAEgGfCnRCvwHSJDVAOaJlyHRWwAAAABIBnwxqQr8B0YYolXbgWKAsi4EAAAATQZsRSahBbJlMCHf//qmWAACVgQAAAAxBny9FFSwv/wAAsoEAAAASAZ9OdEK/AdIkNUA5omXIdFbAAAAAEgGfUGpCvwHRhiiVduBYoCyLgAAAABNBm1VJqEFsmUwId//+qZYAAJWBAAAADEGfc0UVLC//AACygAAAABIBn5J0Qr8B0iQ1QDmiZch0VsAAAAASAZ+UakK/AdGGKJV24FigLIuBAAAAE0GbmUmoQWyZTAh3//6plgAAlYAAAAAMQZ+3RRUsL/8AALKBAAAAEgGf1nRCvwHSJDVAOaJlyHRWwQAAABIBn9hqQr8B0YYolXbgWKAsi4AAAAATQZvdSahBbJlMCHf//qmWAACVgQAAAAxBn/tFFSwv/wAAsoAAAAASAZ4adEK/AdIkNUA5omXIdFbBAAAAEgGeHGpCvwHRhiiVduBYoCyLgQAAABNBmgFJqEFsmUwId//+qZYAAJWAAAAADEGeP0UVLC//AACygAAAABIBnl50Qr8B0iQ1QDmiZch0VsEAAAASAZ5AakK/AdGGKJV24FigLIuAAAAAE0GaRUmoQWyZTAh3//6plgAAlYEAAAAMQZ5jRRUsL/8AALKAAAAAEgGegnRCvwHSJDVAOaJlyHRWwQAAABIBnoRqQr8B0YYolXbgWKAsi4EAAAATQZqJSahBbJlMCHf//qmWAACVgQAAAAxBnqdFFSwv/wAAsoEAAAASAZ7GdEK/AdIkNUA5omXIdFbAAAAAEgGeyGpCvwHRhiiVduBYoCyLgAAAABNBms1JqEFsmUwId//+qZYAAJWBAAAADEGe60UVLC//AACygAAAABIBnwp0Qr8B0iQ1QDmiZch0VsAAAAASAZ8MakK/AdGGKJV24FigLIuBAAAAE0GbEUmoQWyZTAh3//6plgAAlYEAAAAMQZ8vRRUsL/8AALKBAAAAEgGfTnRCvwHSJDVAOaJlyHRWwAAAABIBn1BqQr8B0YYolXbgWKAsi4AAAAATQZtVSahBbJlMCHf//qmWAACVgQAAAAxBn3NFFSwv/wAAsoAAAAASAZ+SdEK/AdIkNUA5omXIdFbAAAAAEgGflGpCvwHRhiiVduBYoCyLgQAAABNBm5lJqEFsmUwId//+qZYAAJWAAAAADEGft0UVLC//AACygQAAABIBn9Z0Qr8B0iQ1QDmiZch0VsEAAAASAZ/YakK/AdGGKJV24FigLIuAAAAAE0Gb3UmoQWyZTAh3//6plgAAlYEAAAAMQZ/7RRUsL/8AALKAAAAAEgGeGnRCvwHSJDVAOaJlyHRWwQAAABIBnhxqQr8B0YYolXbgWKAsi4EAAAASQZoBSahBbJlMCG///qeEAAEnAAAADEGeP0UVLC//AACygAAAABIBnl50Qr8B0iQ1QDmiZch0VsEAAAASAZ5AakK/AdGGKJV24FigLIuAAAAAEkGaRUmoQWyZTAhn//6eEAAEfQAAAAxBnmNFFSwv/wAAsoAAAAASAZ6CdEK/AdIkNUA5omXIdFbBAAAAEgGehGpCvwHRhiiVduBYoCyLgQAAABpBmolLqEIQWyRGCCgH8gH9h4AhX/44QAARcQAAACNBnqdFFSwv/wIB3OpL2zMKuYDoGrWoXAlAGWiTwt8ykzScMQAAABIBnsZ0Qr8B0iQ1QDmiZch0VsAAAAAjAZ7IakK/Aq9j7UHE3arDzNeJoFdnSLQGuGbr8HtGndA7iwYAAAyJbW9vdgAAAGxtdmhkAAAAAAAAAAAAAAAAAAAD6AAAH5AAAQAAAQAAAAAAAAAAAAAAAAEAAAAAAAAAAAAAAAAAAAABAAAAAAAAAAAAAAAAAABAAAAAAAAAAAAAAAAAAAAAAAAAAAAAAAAAAAAAAAAAAgAAC7N0cmFrAAAAXHRraGQAAAADAAAAAAAAAAAAAAABAAAAAAAAH5AAAAAAAAAAAAAAAAAAAAAAAAEAAAAAAAAAAAAAAAAAAAABAAAAAAAAAAAAAAAAAABAAAAAARAAAAEQAAAAAAAkZWR0cwAAABxlbHN0AAAAAAAAAAEAAB+QAAAEAAABAAAAAAsrbWRpYQAAACBtZGhkAAAAAAAAAAAAAAAAAAAyAAABlABVxAAAAAAALWhkbHIAAAAAAAAAAHZpZGUAAAAAAAAAAAAAAABWaWRlb0hhbmRsZXIAAAAK1m1pbmYAAAAUdm1oZAAAAAEAAAAAAAAAAAAAACRkaW5mAAAAHGRyZWYAAAAAAAAAAQAAAAx1cmwgAAAAAQAACpZzdGJsAAAAlnN0c2QAAAAAAAAAAQAAAIZhdmMxAAAAAAAAAAEAAAAAAAAAAAAAAAAAAAAAARABEABIAAAASAAAAAAAAAABAAAAAAAAAAAAAAAAAAAAAAAAAAAAAAAAAAAAAAAAAAAAGP//AAAAMGF2Y0MB9AAN/+EAF2f0AA2RmygiEdCAAAADAIAAABkHihTLAQAGaOvjxEhEAAAAGHN0dHMAAAAAAAAAAQAAAMoAAAIAAAAAFHN0c3MAAAAAAAAAAQAAAAEAAAZgY3R0cwAAAAAAAADKAAAAAQAABAAAAAABAAAKAAAAAAEAAAQAAAAAAQAAAAAAAAABAAACAAAAAAEAAAoAAAAAAQAABAAAAAABAAAAAAAAAAEAAAIAAAAAAQAABAAAAAABAAAKAAAAAAEAAAQAAAAAAQAAAAAAAAABAAACAAAAAAEAAAoAAAAAAQAABAAAAAABAAAAAAAAAAEAAAIAAAAAAQAACgAAAAABAAAEAAAAAAEAAAAAAAAAAQAAAgAAAAABAAAKAAAAAAEAAAQAAAAAAQAAAAAAAAABAAACAAAAAAEAAAoAAAAAAQAABAAAAAABAAAAAAAAAAEAAAIAAAAAAQAACgAAAAABAAAEAAAAAAEAAAAAAAAAAQAAAgAAAAABAAAKAAAAAAEAAAQAAAAAAQAAAAAAAAABAAACAAAAAAEAAAoAAAAAAQAABAAAAAABAAAAAAAAAAEAAAIAAAAAAQAACgAAAAABAAAEAAAAAAEAAAAAAAAAAQAAAgAAAAABAAAKAAAAAAEAAAQAAAAAAQAAAAAAAAABAAACAAAAAAEAAAoAAAAAAQAABAAAAAABAAAAAAAAAAEAAAIAAAAAAQAACgAAAAABAAAEAAAAAAEAAAAAAAAAAQAAAgAAAAABAAAKAAAAAAEAAAQAAAAAAQAAAAAAAAABAAACAAAAAAEAAAoAAAAAAQAABAAAAAABAAAAAAAAAAEAAAIAAAAAAQAACgAAAAABAAAEAAAAAAEAAAAAAAAAAQAAAgAAAAABAAAKAAAAAAEAAAQAAAAAAQAAAAAAAAABAAACAAAAAAEAAAoAAAAAAQAABAAAAAABAAAAAAAAAAEAAAIAAAAAAQAACgAAAAABAAAEAAAAAAEAAAAAAAAAAQAAAgAAAAABAAAKAAAAAAEAAAQAAAAAAQAAAAAAAAABAAACAAAAAAEAAAoAAAAAAQAABAAAAAABAAAAAAAAAAEAAAIAAAAAAQAACgAAAAABAAAEAAAAAAEAAAAAAAAAAQAAAgAAAAABAAAKAAAAAAEAAAQAAAAAAQAAAAAAAAABAAACAAAAAAEAAAoAAAAAAQAABAAAAAABAAAAAAAAAAEAAAIAAAAAAQAACgAAAAABAAAEAAAAAAEAAAAAAAAAAQAAAgAAAAABAAAKAAAAAAEAAAQAAAAAAQAAAAAAAAABAAACAAAAAAEAAAoAAAAAAQAABAAAAAABAAAAAAAAAAEAAAIAAAAAAQAACgAAAAABAAAEAAAAAAEAAAAAAAAAAQAAAgAAAAABAAAKAAAAAAEAAAQAAAAAAQAAAAAAAAABAAACAAAAAAEAAAoAAAAAAQAABAAAAAABAAAAAAAAAAEAAAIAAAAAAQAACgAAAAABAAAEAAAAAAEAAAAAAAAAAQAAAgAAAAABAAAKAAAAAAEAAAQAAAAAAQAAAAAAAAABAAACAAAAAAEAAAoAAAAAAQAABAAAAAABAAAAAAAAAAEAAAIAAAAAAQAACgAAAAABAAAEAAAAAAEAAAAAAAAAAQAAAgAAAAABAAAKAAAAAAEAAAQAAAAAAQAAAAAAAAABAAACAAAAAAEAAAoAAAAAAQAABAAAAAABAAAAAAAAAAEAAAIAAAAAAQAACgAAAAABAAAEAAAAAAEAAAAAAAAAAQAAAgAAAAABAAAKAAAAAAEAAAQAAAAAAQAAAAAAAAABAAACAAAAAAEAAAoAAAAAAQAABAAAAAABAAAAAAAAAAEAAAIAAAAAAQAACgAAAAABAAAEAAAAAAEAAAAAAAAAAQAAAgAAAAABAAAKAAAAAAEAAAQAAAAAAQAAAAAAAAABAAACAAAAAAEAAAoAAAAAAQAABAAAAAABAAAAAAAAAAEAAAIAAAAAAQAACgAAAAABAAAEAAAAAAEAAAAAAAAAAQAAAgAAAAABAAAKAAAAAAEAAAQAAAAAAQAAAAAAAAABAAACAAAAAAEAAAoAAAAAAQAABAAAAAABAAAAAAAAAAEAAAIAAAAAAQAACgAAAAABAAAEAAAAAAEAAAAAAAAAAQAAAgAAAAABAAAKAAAAAAEAAAQAAAAAAQAAAAAAAAABAAACAAAAAAEAAAoAAAAAAQAABAAAAAABAAAAAAAAAAEAAAIAAAAAAQAACgAAAAABAAAEAAAAAAEAAAAAAAAAAQAAAgAAAAAcc3RzYwAAAAAAAAABAAAAAQAAAMoAAAABAAADPHN0c3oAAAAAAAAAAAAAAMoAAAXlAAAAJwAAABgAAAAUAAAAFAAAAFAAAAAZAAAAFAAAABMAAAAeAAAAGgAAABIAAAAUAAAAFAAAABcAAAAQAAAAFgAAABYAAAAXAAAAEAAAABYAAAAWAAAAFwAAABAAAAAWAAAAFgAAABcAAAAQAAAAFgAAABYAAAAXAAAAEAAAABYAAAAWAAAAFwAAABAAAAAWAAAAFgAAABcAAAAQAAAAFgAAABYAAAAXAAAAEAAAABYAAAAWAAAAFwAAABAAAAAWAAAAFgAAABcAAAAQAAAAFgAAABYAAAAXAAAAEAAAABYAAAAWAAAAFwAAABAAAAAWAAAAFgAAABcAAAAQAAAAFgAAABYAAAAXAAAAEAAAABYAAAAWAAAAFwAAABAAAAAWAAAAFgAAABcAAAAQAAAAFgAAABYAAAAXAAAAEAAAABYAAAAWAAAAFwAAABAAAAAWAAAAFgAAABcAAAAQAAAAFgAAABYAAAAXAAAAEAAAABYAAAAWAAAAFwAAABAAAAAWAAAAFgAAABcAAAAQAAAAFgAAABYAAAAXAAAAEAAAABYAAAAWAAAAFwAAABAAAAAWAAAAFgAAABcAAAAQAAAAFgAAABYAAAAXAAAAEAAAABYAAAAWAAAAFwAAABAAAAAWAAAAFgAAABcAAAAQAAAAFgAAABYAAAAXAAAAEAAAABYAAAAWAAAAFwAAABAAAAAWAAAAFgAAABcAAAAQAAAAFgAAABYAAAAXAAAAEAAAABYAAAAWAAAAFwAAABAAAAAWAAAAFgAAABcAAAAQAAAAFgAAABYAAAAXAAAAEAAAABYAAAAWAAAAFwAAABAAAAAWAAAAFgAAABcAAAAQAAAAFgAAABYAAAAXAAAAEAAAABYAAAAWAAAAFwAAABAAAAAWAAAAFgAAABcAAAAQAAAAFgAAABYAAAAXAAAAEAAAABYAAAAWAAAAFwAAABAAAAAWAAAAFgAAABcAAAAQAAAAFgAAABYAAAAXAAAAEAAAABYAAAAWAAAAFgAAABAAAAAWAAAAFgAAABYAAAAQAAAAFgAAABYAAAAeAAAAJwAAABYAAAAnAAAAFHN0Y28AAAAAAAAAAQAAADAAAABidWR0YQAAAFptZXRhAAAAAAAAACFoZGxyAAAAAAAAAABtZGlyYXBwbAAAAAAAAAAAAAAAAC1pbHN0AAAAJal0b28AAAAdZGF0YQAAAAEAAAAATGF2ZjU2LjQwLjEwMQ==\" type=\"video/mp4\" />\n",
       "             </video>"
      ],
      "text/plain": [
       "<IPython.core.display.HTML object>"
      ]
     },
     "execution_count": 79,
     "metadata": {},
     "output_type": "execute_result"
    }
   ],
   "source": [
    "HTML(display_videos('cnn_test_0.5_10.mp4'))"
   ]
  },
  {
   "cell_type": "code",
   "execution_count": 80,
   "metadata": {},
   "outputs": [
    {
     "data": {
      "text/html": [
       "<video alt=\"test\" controls>\n",
       "                <source src=\"data:video/mp4;base64,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\" type=\"video/mp4\" />\n",
       "             </video>"
      ],
      "text/plain": [
       "<IPython.core.display.HTML object>"
      ]
     },
     "execution_count": 80,
     "metadata": {},
     "output_type": "execute_result"
    }
   ],
   "source": [
    "HTML(display_videos('fc_test_0.3_10.mp4'))"
   ]
  },
  {
   "cell_type": "markdown",
   "metadata": {},
   "source": [
    "***\n",
    "\n",
    "The algorithm tends to not explore the map which can be an issue. We propose two ideas in order to encourage exploration:\n",
    "1. Incorporating a decreasing $\\epsilon$-greedy exploration. You can use the method ```set_epsilon```\n",
    "2. Append via the environment a new state that describes if a cell has been visited or not\n",
    "\n",
    "***\n",
    "__Question 10__ Design a new ```train_explore``` function and environment class ```EnvironmentExploring``` to tackle the issue of exploration.\n",
    "\n",
    "> Therefore, I trained for this experiment the DQN rat with the same architecture CNN network, except that its input is now of shape (5,5,3), the third \"layer\" informing the cat whether or not each cell he sees has been visited by the past (1 if visited, 0 otherwise). Thus, the new CNN network had slightly more parameters than the previous one (1828 against 1764). In addition, the new trained rat played according to an $\\epsilon$-greedy policy, with $\\epsilon$-decreasing linearly from 0.9 to 0.1 across the 100 training epochs.\n",
    "\n",
    ">In the table below, I report its performances at test time under various temperatures, and compare these to the DQN-CNN rat trained without the \"third\" layer information, without the reshaped reward (original reward minus the potential malus of having already visite the state), and playing throughout according to a 0.1-$\\epsilon$ greedy policy during the whole 100 training epochs.\n",
    "\n",
    "> | Test temperature | 0.1  | 0.3 | 0.5 |\n",
    "|------|------|------|------|\n",
    "|  DQN-CNN constant epsilon (0.1) - Test Score | | | | | |\n",
    "|  DQN-CNN decreasing epsilon - Test Score | | | | | "
   ]
  },
  {
   "cell_type": "code",
   "execution_count": 81,
   "metadata": {},
   "outputs": [],
   "source": [
    "reward = 0\n",
    "\n",
    "def train_explore(agent,env, epoch, epsilon_end = 0.1, prefix=''):\n",
    "    #epoch : number of training epochs\n",
    "    #epsilon reached at the end of the training\n",
    "    \n",
    "    decrease_rate_epsilon = (agent.epsilon-epsilon_end)/epoch\n",
    "    #we decide that at the end of the training, epsilon is equal to 0.1\n",
    "    \n",
    "    history_losses = []\n",
    "    history_scores = []    \n",
    "    \n",
    "    score = 0\n",
    "    \n",
    "    for e in range(epoch):\n",
    "            \n",
    "        # At each epoch, we restart to a fresh game and get the initial state\n",
    "        state = env.reset()\n",
    "        # This assumes that the games will terminate\n",
    "        game_over = False\n",
    "        \n",
    "        loss = 0\n",
    "\n",
    "        win = 0\n",
    "        lose = 0\n",
    "        \n",
    "        t = 0\n",
    "\n",
    "        while not game_over:\n",
    "            \n",
    "            # The agent performs an action\n",
    "            action = agent.act(state, train = True)\n",
    "\n",
    "            # Apply an action to the environment, get the next state, the reward\n",
    "            prev_state = state\n",
    "            state, reward, game_over = env.act(action, train = True)\n",
    "            \n",
    "            # Update the counters\n",
    "            if reward > 0:\n",
    "                win = win + reward\n",
    "            if reward < 0:\n",
    "                lose = lose -reward\n",
    "\n",
    "            # Apply the reinforcement strategy\n",
    "            loss += agent.reinforce(prev_state, state,  action, reward, game_over)\n",
    "            \n",
    "            t+=1\n",
    "            \n",
    "        loss /= t\n",
    "            \n",
    "        history_losses.append(loss)\n",
    "        \n",
    "        ############\n",
    "        #Update epsilon\n",
    "        agent.set_epsilon(agent.epsilon-decrease_rate_epsilon)\n",
    "        ############\n",
    "\n",
    "        # Save as a mp4\n",
    "        if e % 10 == 0:\n",
    "            env.draw(prefix+str(e))\n",
    "\n",
    "        # Update stats\n",
    "        score_episode = 0.5*win-lose\n",
    "        score += score_episode\n",
    "        history_scores.append(score_episode)\n",
    "        \n",
    "        print(\"Epoch {:03d}/{:03d} | Loss {:.4f} | Win/lose count {}/{} ({})\"\n",
    "              .format(e, epoch, loss, win, lose, score_episode))\n",
    "        agent.save(name_weights=prefix+'model.h5',name_model=prefix+'model.json')\n",
    "        \n",
    "                \n",
    "class EnvironmentExploring(Environment):\n",
    "    \n",
    "    def __init__(self, grid_size=10, max_time=500, temperature=0.1):\n",
    "        \n",
    "        super(EnvironmentExploring, self).__init__(grid_size=grid_size, max_time=max_time, temperature=temperature)\n",
    "\n",
    "        #third information layer (has the cell been visited by the past ?)\n",
    "        self.malus_position = np.zeros((self.grid_size,self.grid_size))\n",
    "    \n",
    "    def act(self, action, train=False):\n",
    "        \"\"\"This function returns the new state, reward and decides if the\n",
    "        game ends.\"\"\"\n",
    "\n",
    "        self.get_frame(int(self.t))\n",
    "\n",
    "        self.position = np.zeros((self.grid_size, self.grid_size))\n",
    "\n",
    "        self.position[0:2,:]= -1\n",
    "        self.position[:,0:2] = -1\n",
    "        self.position[-2:, :] = -1\n",
    "        self.position[:, -2:] = -1 \n",
    "\n",
    "        self.position[self.x, self.y] = 1\n",
    "        if action == 0:\n",
    "            if self.x == self.grid_size-3:\n",
    "                self.x = self.x -1\n",
    "            else:\n",
    "                self.x = self.x + 1\n",
    "        elif action == 1:\n",
    "            if self.x == 2:\n",
    "                self.x = self.x +1\n",
    "            else:\n",
    "                self.x = self.x - 1\n",
    "        elif action == 2:\n",
    "            if self.y == self.grid_size - 3:\n",
    "                self.y = self.y - 1\n",
    "            else:\n",
    "                self.y = self.y + 1\n",
    "        elif action == 3:\n",
    "            if self.y == 2:\n",
    "                self.y = self.y + 1\n",
    "            else:\n",
    "                self.y = self.y - 1\n",
    "        else:\n",
    "            RuntimeError('Error: action not recognized')\n",
    "\n",
    "        self.t = self.t + 1\n",
    "        \n",
    "        reward = self.board[self.x, self.y]\n",
    "        \n",
    "        if train: #reshaping the reward if the cell was already visited\n",
    "            reward -= self.malus_position[self.x, self.y]\n",
    "            \n",
    "        #the cell has just been visited\n",
    "        self.malus_position[self.x, self.y] = 0.1\n",
    "        \n",
    "        self.board[self.x, self.y] = 0\n",
    "        game_over = self.t > self.max_time\n",
    "                \n",
    "        #we have one more layer caracterizing a state now\n",
    "        state = np.concatenate((self.malus_position.reshape(self.grid_size, self.grid_size,1),\n",
    "                                self.board.reshape(self.grid_size, self.grid_size,1),\n",
    "                        self.position.reshape(self.grid_size, self.grid_size,1)),axis=2)\n",
    "        \n",
    "        #state visible for the rat\n",
    "        state = state[self.x-2:self.x+3,self.y-2:self.y+3,:]\n",
    "        \n",
    "        return state, reward, game_over\n",
    "\n",
    "    def reset(self):\n",
    "        \"\"\"This function resets the game and returns the initial state\"\"\"\n",
    "\n",
    "        self.x = np.random.randint(3, self.grid_size-3, size=1)[0]\n",
    "        self.y = np.random.randint(3, self.grid_size-3, size=1)[0]\n",
    "\n",
    "\n",
    "        bonus = 0.5*np.random.binomial(1,self.temperature,size=self.grid_size**2)\n",
    "        bonus = bonus.reshape(self.grid_size,self.grid_size)\n",
    "\n",
    "        malus = -1.0*np.random.binomial(1,self.temperature,size=self.grid_size**2)\n",
    "        malus = malus.reshape(self.grid_size, self.grid_size)\n",
    "\n",
    "        self.to_draw = np.zeros((self.max_time+2, self.grid_size*self.scale, self.grid_size*self.scale, 3))\n",
    "\n",
    "\n",
    "        malus[bonus>0]=0\n",
    "\n",
    "        self.board = bonus + malus\n",
    "\n",
    "        self.position = np.zeros((self.grid_size, self.grid_size))\n",
    "        self.position[0:2,:]= -1\n",
    "        self.position[:,0:2] = -1\n",
    "        self.position[-2:, :] = -1\n",
    "        self.position[:, -2:] = -1 \n",
    "        \n",
    "        #third information layer (has the cell been visited by the past ?)\n",
    "        self.malus_position = np.zeros((self.grid_size,self.grid_size))\n",
    "        \n",
    "        self.board[self.x,self.y] = 0\n",
    "        self.board[self.position < 0] = 0\n",
    "        \n",
    "        self.t = 0\n",
    "        \n",
    "        #the initial state is visited\n",
    "        self.malus_position[self.x, self.y] = 0.1\n",
    "        \n",
    "        #we have one more layer caracterizing a state now\n",
    "        state = np.concatenate((self.malus_position.reshape(self.grid_size, self.grid_size,1),\n",
    "                                self.board.reshape(self.grid_size, self.grid_size,1),\n",
    "                        self.position.reshape(self.grid_size, self.grid_size,1)),axis=2)\n",
    "\n",
    "        state = state[self.x - 2:self.x + 3, self.y - 2:self.y + 3, :]\n",
    "        return state"
   ]
  },
  {
   "cell_type": "code",
   "execution_count": 82,
   "metadata": {},
   "outputs": [
    {
     "name": "stdout",
     "output_type": "stream",
     "text": [
      "_________________________________________________________________\n",
      "Layer (type)                 Output Shape              Param #   \n",
      "=================================================================\n",
      "conv2d_33 (Conv2D)           (None, 4, 4, 16)          208       \n",
      "_________________________________________________________________\n",
      "conv2d_34 (Conv2D)           (None, 3, 3, 16)          1040      \n",
      "_________________________________________________________________\n",
      "flatten_22 (Flatten)         (None, 144)               0         \n",
      "_________________________________________________________________\n",
      "dense_27 (Dense)             (None, 4)                 580       \n",
      "=================================================================\n",
      "Total params: 1,828\n",
      "Trainable params: 1,828\n",
      "Non-trainable params: 0\n",
      "_________________________________________________________________\n",
      "Epoch 000/101 | Loss 0.0231 | Win/lose count 4.0/25.40000000000008 (-23.40000000000008)\n",
      "Epoch 001/101 | Loss 0.0076 | Win/lose count 4.5/20.80000000000003 (-18.55000000000003)\n",
      "Epoch 002/101 | Loss 0.0072 | Win/lose count 9.0/24.000000000000043 (-19.500000000000043)\n",
      "Epoch 003/101 | Loss 0.0076 | Win/lose count 6.0/20.20000000000002 (-17.20000000000002)\n",
      "Epoch 004/101 | Loss 0.0067 | Win/lose count 6.0/17.799999999999986 (-14.799999999999986)\n",
      "Epoch 005/101 | Loss 0.0069 | Win/lose count 13.5/16.39999999999997 (-9.64999999999997)\n",
      "Epoch 006/101 | Loss 0.0067 | Win/lose count 9.5/21.800000000000043 (-17.050000000000043)\n",
      "Epoch 007/101 | Loss 0.0071 | Win/lose count 7.0/23.300000000000033 (-19.800000000000033)\n",
      "Epoch 008/101 | Loss 0.0077 | Win/lose count 10.5/17.39999999999998 (-12.14999999999998)\n",
      "Epoch 009/101 | Loss 0.0072 | Win/lose count 7.0/21.900000000000038 (-18.400000000000038)\n",
      "Epoch 010/101 | Loss 0.0082 | Win/lose count 10.5/25.50000000000008 (-20.25000000000008)\n",
      "Epoch 011/101 | Loss 0.0097 | Win/lose count 17.0/20.50000000000002 (-12.000000000000021)\n",
      "Epoch 012/101 | Loss 0.0136 | Win/lose count 10.5/16.09999999999996 (-10.849999999999959)\n",
      "Epoch 013/101 | Loss 0.0132 | Win/lose count 19.0/15.89999999999997 (-6.39999999999997)\n",
      "Epoch 014/101 | Loss 0.0160 | Win/lose count 21.0/18.800000000000015 (-8.300000000000015)\n",
      "Epoch 015/101 | Loss 0.0136 | Win/lose count 16.0/16.499999999999975 (-8.499999999999975)\n",
      "Epoch 016/101 | Loss 0.0152 | Win/lose count 24.5/16.49999999999998 (-4.249999999999979)\n",
      "Epoch 017/101 | Loss 0.0168 | Win/lose count 16.0/20.100000000000005 (-12.100000000000005)\n",
      "Epoch 018/101 | Loss 0.0152 | Win/lose count 19.0/22.90000000000002 (-13.40000000000002)\n",
      "Epoch 019/101 | Loss 0.0163 | Win/lose count 14.0/19.499999999999986 (-12.499999999999986)\n",
      "Epoch 020/101 | Loss 0.0165 | Win/lose count 22.5/16.699999999999985 (-5.449999999999985)\n",
      "Epoch 021/101 | Loss 0.0154 | Win/lose count 21.0/17.6 (-7.100000000000001)\n",
      "Epoch 022/101 | Loss 0.0167 | Win/lose count 11.5/15.299999999999969 (-9.549999999999969)\n",
      "Epoch 023/101 | Loss 0.0154 | Win/lose count 13.5/16.699999999999974 (-9.949999999999974)\n",
      "Epoch 024/101 | Loss 0.0139 | Win/lose count 20.0/11.599999999999978 (-1.5999999999999783)\n",
      "Epoch 025/101 | Loss 0.0146 | Win/lose count 29.0/12.899999999999983 (1.6000000000000174)\n",
      "Epoch 026/101 | Loss 0.0146 | Win/lose count 28.0/14.699999999999978 (-0.699999999999978)\n",
      "Epoch 027/101 | Loss 0.0139 | Win/lose count 18.0/18.500000000000007 (-9.500000000000007)\n",
      "Epoch 028/101 | Loss 0.0138 | Win/lose count 12.0/17.199999999999985 (-11.199999999999985)\n",
      "Epoch 029/101 | Loss 0.0143 | Win/lose count 19.5/17.49999999999998 (-7.749999999999979)\n",
      "Epoch 030/101 | Loss 0.0136 | Win/lose count 16.5/16.099999999999966 (-7.849999999999966)\n",
      "Epoch 031/101 | Loss 0.0129 | Win/lose count 28.0/15.999999999999982 (-1.9999999999999822)\n",
      "Epoch 032/101 | Loss 0.0135 | Win/lose count 19.0/18.499999999999993 (-8.999999999999993)\n",
      "Epoch 033/101 | Loss 0.0119 | Win/lose count 26.0/13.199999999999978 (-0.19999999999997797)\n",
      "Epoch 034/101 | Loss 0.0125 | Win/lose count 24.0/14.399999999999975 (-2.3999999999999755)\n",
      "Epoch 035/101 | Loss 0.0128 | Win/lose count 27.0/15.499999999999982 (-1.9999999999999822)\n",
      "Epoch 036/101 | Loss 0.0134 | Win/lose count 24.5/16.499999999999982 (-4.249999999999982)\n",
      "Epoch 037/101 | Loss 0.0152 | Win/lose count 22.5/16.59999999999998 (-5.34999999999998)\n",
      "Epoch 038/101 | Loss 0.0126 | Win/lose count 25.0/15.499999999999968 (-2.999999999999968)\n",
      "Epoch 039/101 | Loss 0.0127 | Win/lose count 17.5/15.799999999999965 (-7.049999999999965)\n",
      "Epoch 040/101 | Loss 0.0126 | Win/lose count 17.0/19.099999999999998 (-10.599999999999998)\n",
      "Epoch 041/101 | Loss 0.0142 | Win/lose count 17.0/18.30000000000001 (-9.800000000000011)\n",
      "Epoch 042/101 | Loss 0.0129 | Win/lose count 13.5/16.999999999999982 (-10.249999999999982)\n",
      "Epoch 043/101 | Loss 0.0146 | Win/lose count 19.5/16.29999999999998 (-6.549999999999979)\n",
      "Epoch 044/101 | Loss 0.0145 | Win/lose count 26.0/16.49999999999998 (-3.4999999999999787)\n",
      "Epoch 045/101 | Loss 0.0142 | Win/lose count 21.0/17.899999999999995 (-7.399999999999995)\n",
      "Epoch 046/101 | Loss 0.0128 | Win/lose count 25.0/14.29999999999998 (-1.7999999999999794)\n",
      "Epoch 047/101 | Loss 0.0135 | Win/lose count 18.5/17.399999999999988 (-8.149999999999988)\n",
      "Epoch 048/101 | Loss 0.0130 | Win/lose count 23.5/16.599999999999977 (-4.8499999999999766)\n",
      "Epoch 049/101 | Loss 0.0123 | Win/lose count 17.5/15.699999999999969 (-6.949999999999969)\n",
      "Epoch 050/101 | Loss 0.0132 | Win/lose count 27.5/11.29999999999998 (2.4500000000000206)\n",
      "Epoch 051/101 | Loss 0.0142 | Win/lose count 25.5/15.499999999999975 (-2.749999999999975)\n",
      "Epoch 052/101 | Loss 0.0123 | Win/lose count 22.0/10.99999999999998 (1.9539925233402755e-14)\n",
      "Epoch 053/101 | Loss 0.0131 | Win/lose count 19.0/15.699999999999974 (-6.199999999999974)\n",
      "Epoch 054/101 | Loss 0.0121 | Win/lose count 23.5/12.29999999999998 (-0.5499999999999794)\n",
      "Epoch 055/101 | Loss 0.0109 | Win/lose count 25.0/13.399999999999972 (-0.8999999999999719)\n",
      "Epoch 056/101 | Loss 0.0122 | Win/lose count 21.5/14.399999999999977 (-3.6499999999999773)\n",
      "Epoch 057/101 | Loss 0.0138 | Win/lose count 20.0/13.899999999999974 (-3.8999999999999737)\n",
      "Epoch 058/101 | Loss 0.0123 | Win/lose count 23.0/15.799999999999967 (-4.299999999999967)\n",
      "Epoch 059/101 | Loss 0.0136 | Win/lose count 21.5/16.99999999999997 (-6.249999999999972)\n",
      "Epoch 060/101 | Loss 0.0118 | Win/lose count 17.0/18.80000000000001 (-10.300000000000011)\n",
      "Epoch 061/101 | Loss 0.0134 | Win/lose count 19.5/15.699999999999974 (-5.949999999999974)\n",
      "Epoch 062/101 | Loss 0.0133 | Win/lose count 21.5/16.299999999999976 (-5.549999999999976)\n",
      "Epoch 063/101 | Loss 0.0125 | Win/lose count 26.0/15.699999999999982 (-2.6999999999999815)\n",
      "Epoch 064/101 | Loss 0.0140 | Win/lose count 27.5/14.299999999999983 (-0.549999999999983)\n",
      "Epoch 065/101 | Loss 0.0139 | Win/lose count 18.5/17.9 (-8.649999999999999)\n",
      "Epoch 066/101 | Loss 0.0137 | Win/lose count 28.0/19.900000000000013 (-5.900000000000013)\n",
      "Epoch 067/101 | Loss 0.0131 | Win/lose count 24.0/15.999999999999979 (-3.9999999999999787)\n",
      "Epoch 068/101 | Loss 0.0141 | Win/lose count 21.0/12.499999999999975 (-1.9999999999999751)\n",
      "Epoch 069/101 | Loss 0.0125 | Win/lose count 19.5/16.19999999999997 (-6.449999999999971)\n",
      "Epoch 070/101 | Loss 0.0138 | Win/lose count 20.5/13.49999999999998 (-3.2499999999999805)\n",
      "Epoch 071/101 | Loss 0.0143 | Win/lose count 22.5/15.799999999999974 (-4.549999999999974)\n",
      "Epoch 072/101 | Loss 0.0139 | Win/lose count 21.0/11.99999999999998 (-1.4999999999999805)\n",
      "Epoch 073/101 | Loss 0.0136 | Win/lose count 19.5/16.39999999999998 (-6.649999999999981)\n",
      "Epoch 074/101 | Loss 0.0117 | Win/lose count 19.0/13.999999999999977 (-4.499999999999977)\n",
      "Epoch 075/101 | Loss 0.0137 | Win/lose count 24.5/12.999999999999977 (-0.7499999999999769)\n",
      "Epoch 076/101 | Loss 0.0134 | Win/lose count 17.5/17.899999999999995 (-9.149999999999995)\n",
      "Epoch 077/101 | Loss 0.0139 | Win/lose count 20.5/13.099999999999973 (-2.849999999999973)\n",
      "Epoch 078/101 | Loss 0.0133 | Win/lose count 18.0/14.89999999999998 (-5.899999999999981)\n",
      "Epoch 079/101 | Loss 0.0124 | Win/lose count 20.0/14.399999999999974 (-4.399999999999974)\n",
      "Epoch 080/101 | Loss 0.0139 | Win/lose count 22.5/21.20000000000003 (-9.950000000000031)\n",
      "Epoch 081/101 | Loss 0.0123 | Win/lose count 25.0/12.19999999999998 (0.30000000000002025)\n"
     ]
    },
    {
     "name": "stdout",
     "output_type": "stream",
     "text": [
      "Epoch 082/101 | Loss 0.0131 | Win/lose count 23.0/15.799999999999981 (-4.299999999999981)\n",
      "Epoch 083/101 | Loss 0.0129 | Win/lose count 26.5/12.099999999999984 (1.1500000000000163)\n",
      "Epoch 084/101 | Loss 0.0141 | Win/lose count 23.5/11.999999999999984 (-0.249999999999984)\n",
      "Epoch 085/101 | Loss 0.0140 | Win/lose count 23.0/12.99999999999998 (-1.4999999999999805)\n",
      "Epoch 086/101 | Loss 0.0134 | Win/lose count 22.5/16.799999999999986 (-5.5499999999999865)\n",
      "Epoch 087/101 | Loss 0.0139 | Win/lose count 19.0/19.400000000000006 (-9.900000000000006)\n",
      "Epoch 088/101 | Loss 0.0143 | Win/lose count 24.0/13.799999999999974 (-1.799999999999974)\n",
      "Epoch 089/101 | Loss 0.0140 | Win/lose count 20.0/13.699999999999978 (-3.699999999999978)\n",
      "Epoch 090/101 | Loss 0.0137 | Win/lose count 22.0/14.59999999999998 (-3.59999999999998)\n",
      "Epoch 091/101 | Loss 0.0155 | Win/lose count 26.0/13.499999999999973 (-0.49999999999997335)\n",
      "Epoch 092/101 | Loss 0.0151 | Win/lose count 29.0/14.299999999999978 (0.20000000000002238)\n",
      "Epoch 093/101 | Loss 0.0135 | Win/lose count 24.5/13.299999999999976 (-1.0499999999999758)\n",
      "Epoch 094/101 | Loss 0.0152 | Win/lose count 24.0/12.599999999999978 (-0.5999999999999783)\n",
      "Epoch 095/101 | Loss 0.0133 | Win/lose count 19.0/14.399999999999983 (-4.899999999999983)\n",
      "Epoch 096/101 | Loss 0.0148 | Win/lose count 21.5/15.899999999999972 (-5.149999999999972)\n",
      "Epoch 097/101 | Loss 0.0158 | Win/lose count 21.5/15.999999999999975 (-5.249999999999975)\n",
      "Epoch 098/101 | Loss 0.0159 | Win/lose count 21.5/18.999999999999996 (-8.249999999999996)\n",
      "Epoch 099/101 | Loss 0.0157 | Win/lose count 21.0/11.799999999999981 (-1.2999999999999812)\n",
      "Epoch 100/101 | Loss 0.0162 | Win/lose count 20.0/15.699999999999978 (-5.699999999999978)\n"
     ]
    },
    {
     "data": {
      "text/html": [
       "<video alt=\"test\" controls>\n",
       "                <source src=\"data:video/mp4;base64,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\" type=\"video/mp4\" />\n",
       "             </video>"
      ],
      "text/plain": [
       "<IPython.core.display.HTML object>"
      ]
     },
     "execution_count": 82,
     "metadata": {},
     "output_type": "execute_result"
    }
   ],
   "source": [
    "# Training\n",
    "env = EnvironmentExploring(grid_size=size, max_time=T, temperature=temperature)\n",
    "\n",
    "#init epsilon is 0.9, it will decrease linearly through epochs to reach 0.1 at the end of training\n",
    "agent_dqn_cnn_explore = DQN_CNN(grid_size=size, lr=.1, epsilon = 0.3, memory_size=2000, batch_size = 32,n_state=3)\n",
    "train_explore(agent_dqn_cnn_explore, env, epochs_train, epsilon_end = 0.1, prefix='cnn_train_explore')\n",
    "\n",
    "HTML(display_videos('cnn_train_explore50.mp4'))"
   ]
  },
  {
   "cell_type": "code",
   "execution_count": 83,
   "metadata": {},
   "outputs": [
    {
     "name": "stdout",
     "output_type": "stream",
     "text": [
      "_________________________________________________________________\n",
      "Layer (type)                 Output Shape              Param #   \n",
      "=================================================================\n",
      "conv2d_35 (Conv2D)           (None, 4, 4, 16)          208       \n",
      "_________________________________________________________________\n",
      "conv2d_36 (Conv2D)           (None, 3, 3, 16)          1040      \n",
      "_________________________________________________________________\n",
      "flatten_23 (Flatten)         (None, 144)               0         \n",
      "_________________________________________________________________\n",
      "dense_28 (Dense)             (None, 4)                 580       \n",
      "=================================================================\n",
      "Total params: 1,828\n",
      "Trainable params: 1,828\n",
      "Non-trainable params: 0\n",
      "_________________________________________________________________\n",
      "TEMPERATURE :  0.1\n",
      "Test of the CNN (train with decreasing epsilon from 0.9 to 0.1)\n",
      "Win/lose count 7.5/0. Average score (3.75)\n",
      "Win/lose count 3.5/0. Average score (2.75)\n",
      "Win/lose count 3.0/0. Average score (2.3333333333333335)\n",
      "Win/lose count 3.5/0. Average score (2.1875)\n",
      "Win/lose count 8.0/0. Average score (2.55)\n",
      "Win/lose count 8.0/0. Average score (2.7916666666666665)\n",
      "Win/lose count 4.0/0. Average score (2.6785714285714284)\n",
      "Win/lose count 5.5/0. Average score (2.6875)\n",
      "Win/lose count 8.5/0. Average score (2.861111111111111)\n",
      "Win/lose count 7.0/0. Average score (2.925)\n",
      "Win/lose count 5.5/0. Average score (2.909090909090909)\n",
      "Final score: 2.909090909090909\n",
      "TEMPERATURE :  0.3\n",
      "Test of the CNN (train with decreasing epsilon from 0.9 to 0.1)\n",
      "Win/lose count 5.5/0. Average score (2.75)\n",
      "Win/lose count 16.0/2.0. Average score (4.375)\n",
      "Win/lose count 16.0/2.0. Average score (4.916666666666667)\n",
      "Win/lose count 17.0/1.0. Average score (5.5625)\n",
      "Win/lose count 11.5/1.0. Average score (5.4)\n",
      "Win/lose count 23.5/3.0. Average score (5.958333333333333)\n",
      "Win/lose count 10.0/0. Average score (5.821428571428571)\n",
      "Win/lose count 14.0/2.0. Average score (5.71875)\n",
      "Win/lose count 14.5/2.0. Average score (5.666666666666667)\n",
      "Win/lose count 14.0/0. Average score (5.8)\n",
      "Win/lose count 24.0/2.0. Average score (6.181818181818182)\n",
      "Final score: 6.181818181818182\n",
      "TEMPERATURE :  0.5\n",
      "Test of the CNN (train with decreasing epsilon from 0.9 to 0.1)\n",
      "Win/lose count 3.0/0. Average score (1.5)\n",
      "Win/lose count 31.5/1.0. Average score (8.125)\n",
      "Win/lose count 27.0/1.0. Average score (9.583333333333334)\n",
      "Win/lose count 19.5/1.0. Average score (9.375)\n",
      "Win/lose count 26.5/2.0. Average score (9.75)\n",
      "Win/lose count 33.0/4.0. Average score (10.208333333333334)\n",
      "Win/lose count 0.5/0. Average score (8.785714285714286)\n",
      "Win/lose count 18.5/0. Average score (8.84375)\n",
      "Win/lose count 31.0/2.0. Average score (9.36111111111111)\n",
      "Win/lose count 31.5/0. Average score (10.0)\n",
      "Win/lose count 24.0/1.0. Average score (10.090909090909092)\n",
      "Final score: 10.090909090909092\n"
     ]
    }
   ],
   "source": [
    "# Comparison\n",
    "\n",
    "agent_dqn_cnn_explore = DQN_CNN(grid_size=size, lr=.1, epsilon = 0.9, memory_size=2000, batch_size = 32,n_state=3)\n",
    "agent_dqn_cnn_explore.load(name_weights='cnn_train_exploremodel.h5',name_model='cnn_train_exploremodel.json')\n",
    "\n",
    "for temp in [0.1, 0.3, 0.5]:\n",
    "    print(\"TEMPERATURE : \", str(temp))\n",
    "    env = EnvironmentExploring(grid_size=size, max_time=T,temperature=temp)\n",
    "\n",
    "    print('Test of the CNN (train with decreasing epsilon from 0.9 to 0.1)')\n",
    "    test(agent_dqn_cnn_explore,env,epochs_test,prefix='cnn_test_explore_'+str(temp)+'_')"
   ]
  },
  {
   "cell_type": "code",
   "execution_count": 84,
   "metadata": {},
   "outputs": [
    {
     "data": {
      "text/html": [
       "<video alt=\"test\" controls>\n",
       "                <source src=\"data:video/mp4;base64,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\" type=\"video/mp4\" />\n",
       "             </video>"
      ],
      "text/plain": [
       "<IPython.core.display.HTML object>"
      ]
     },
     "execution_count": 84,
     "metadata": {},
     "output_type": "execute_result"
    }
   ],
   "source": [
    "# Evaluation\n",
    "HTML(display_videos('cnn_test_explore_0.1_10.mp4'))"
   ]
  },
  {
   "cell_type": "code",
   "execution_count": 85,
   "metadata": {},
   "outputs": [
    {
     "data": {
      "text/html": [
       "<video alt=\"test\" controls>\n",
       "                <source src=\"data:video/mp4;base64,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\" type=\"video/mp4\" />\n",
       "             </video>"
      ],
      "text/plain": [
       "<IPython.core.display.HTML object>"
      ]
     },
     "execution_count": 85,
     "metadata": {},
     "output_type": "execute_result"
    }
   ],
   "source": [
    "HTML(display_videos('cnn_test_explore_0.3_10.mp4'))"
   ]
  },
  {
   "cell_type": "code",
   "execution_count": 86,
   "metadata": {},
   "outputs": [
    {
     "data": {
      "text/html": [
       "<video alt=\"test\" controls>\n",
       "                <source src=\"data:video/mp4;base64,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\" type=\"video/mp4\" />\n",
       "             </video>"
      ],
      "text/plain": [
       "<IPython.core.display.HTML object>"
      ]
     },
     "execution_count": 86,
     "metadata": {},
     "output_type": "execute_result"
    }
   ],
   "source": [
    "HTML(display_videos('cnn_test_explore_0.5_10.mp4'))"
   ]
  },
  {
   "cell_type": "markdown",
   "metadata": {},
   "source": [
    "***\n",
    "***\n",
    "__BONUS question__ Use the expert DQN from the previous question to generate some winning games. Train a model that mimicks its behavior. Compare the performances."
   ]
  },
  {
   "cell_type": "markdown",
   "metadata": {},
   "source": [
    "\n",
    "> To this end, I collected 10 test trajectories of horizon T=100 of the best DQN agent previously trained (CNN with exploration tricks). Then I trained a \"Mimicker Agent\", which is not more than a CNN, which aims at predicting which action is taken by the expert DQN (values form 0 to 3) from the input state. I again used for the CNN architecture 2 convolutional layers (16 small filters of size (2,2) each followed by relu) and a final dense layer, and I used the categorical cross-entropy loss, adequate for this classification task.\n",
    "\n",
    ">In the table below, I report the performances at test time, under various temperatures, of the Mimicker Agent, against those of the expert DQN Agent.\n",
    "\n",
    "> | Test temperature | 0.1  | 0.3 | 0.5 |\n",
    "|------|------|------|------|\n",
    "|  DQN-CNN Expert - Test Score | | | | | |\n",
    "|  CNN Mimicker - Test Score | | | | | \n",
    "\n",
    "\n",
    "##### TODO : http://ciml.info/dl/v0_99/ciml-v0_99-ch18.pdf"
   ]
  },
  {
   "cell_type": "markdown",
   "metadata": {},
   "source": [
    "***"
   ]
  },
  {
   "cell_type": "code",
   "execution_count": 87,
   "metadata": {},
   "outputs": [],
   "source": [
    "class Mimicker():\n",
    "    \n",
    "    def __init__(self, n_state=2, n_action=4):\n",
    "        \n",
    "        # number of action\n",
    "        self.n_action = n_action\n",
    "        \n",
    "        # number of state\n",
    "        self.n_state = n_state\n",
    "        \n",
    "        # Batch size when learning\n",
    "                \n",
    "        model = Sequential()\n",
    "    \n",
    "        model.add(Conv2D(16, (2, 2), activation='relu', input_shape=(5,5,self.n_state,)))\n",
    "        #model.add(MaxPooling2D(pool_size=(2, 2)))\n",
    "        model.add(Conv2D(16, (2, 2), activation='relu'))\n",
    "        #model.add(MaxPooling2D(pool_size=(2, 2)))\n",
    "        model.add(Flatten())\n",
    "        model.add(Dense(self.n_action,activation='softmax'))\n",
    "\n",
    "        model.summary()\n",
    "        \n",
    "        opt = Adam(lr=0.01, beta_1=0.9, beta_2=0.999, epsilon=None, decay=0.0, amsgrad=False)\n",
    "        #opt = sgd(lr=lr, decay=1e-4, momentum=0.0)\n",
    "        model.compile(loss='categorical_crossentropy', optimizer=opt, metrics=['accuracy'])\n",
    "        \n",
    "        self.model = model\n",
    "    \n",
    "    def act(self,state,train=True):\n",
    "        return np.argmax(self.model.predict(state[None,:,:,:]).flatten()) #action with highest probability\n",
    "        \n",
    "    def learn(self,trajectories,epochs=100,batch_size=16,prefix='', viz=True):\n",
    "        \n",
    "        nb_samples = len(trajectories)\n",
    "        states = np.zeros((nb_samples,5,5,self.n_state))\n",
    "        actions = np.zeros((nb_samples,self.n_action))\n",
    "        for (idx,(state, action)) in enumerate(trajectories):\n",
    "            states[idx] = state \n",
    "            actions[idx] = to_categorical(action,self.n_action)\n",
    "                                \n",
    "        early_stopping_monitor = EarlyStopping(patience = 5)\n",
    "        \n",
    "        history = self.model.fit(states,actions,\n",
    "                                 batch_size=batch_size,epochs=epochs,\n",
    "                                 validation_split = 0.2,callbacks=[early_stopping_monitor],\n",
    "                                 verbose=1)\n",
    "        \n",
    "        if viz:\n",
    "            plt.plot(history.history['loss'])\n",
    "            plt.xlabel(\"epochs\") ; plt.ylabel(\"train loss\")\n",
    "            plt.show()\n",
    "            plt.plot(history.history['val_loss'])\n",
    "            plt.xlabel(\"epochs\") ; plt.ylabel(\"validation loss\")\n",
    "            plt.show()\n",
    "\n",
    "        self.save(name_weights=prefix+'model.h5',name_model=prefix+'model.json')\n",
    "\n",
    "    def save(self,name_weights='model.h5',name_model='model.json'):\n",
    "        self.model.save_weights(name_weights, overwrite=True)\n",
    "        with open(name_model, \"w\") as outfile:\n",
    "            json.dump(self.model.to_json(), outfile)\n",
    "            \n",
    "    def load(self,name_weights='model.h5',name_model='model.json'):\n",
    "        with open(name_model, \"r\") as jfile:\n",
    "            model = model_from_json(json.load(jfile))\n",
    "        model.load_weights(name_weights)\n",
    "        \n",
    "        model.compile(\"sgd\", \"mse\")     \n",
    "        \n",
    "        self.model = model"
   ]
  },
  {
   "cell_type": "code",
   "execution_count": 88,
   "metadata": {},
   "outputs": [
    {
     "name": "stdout",
     "output_type": "stream",
     "text": [
      "Win/lose count 6.0/0. Average score (3.0)\n",
      "Win/lose count 11.5/0. Average score (4.375)\n",
      "Win/lose count 19.5/0. Average score (6.166666666666667)\n",
      "Win/lose count 1.0/0. Average score (4.75)\n",
      "Win/lose count 19.0/0. Average score (5.7)\n",
      "Win/lose count 9.0/1.0. Average score (5.333333333333333)\n",
      "Win/lose count 11.0/0. Average score (5.357142857142857)\n",
      "Win/lose count 5.5/0. Average score (5.03125)\n",
      "Win/lose count 27.5/0. Average score (6.0)\n",
      "Win/lose count 16.5/0. Average score (6.225)\n",
      "Win/lose count 9.0/0. Average score (6.068181818181818)\n",
      "Final score: 6.068181818181818\n"
     ]
    }
   ],
   "source": [
    "env = Environment(grid_size=size, max_time=T,temperature=0.3)\n",
    "trajectories = test(agent_dqn_cnn,env,epochs_test,prefix='cnn_test', return_trajectories=True)"
   ]
  },
  {
   "cell_type": "code",
   "execution_count": 89,
   "metadata": {},
   "outputs": [
    {
     "name": "stdout",
     "output_type": "stream",
     "text": [
      "_________________________________________________________________\n",
      "Layer (type)                 Output Shape              Param #   \n",
      "=================================================================\n",
      "conv2d_37 (Conv2D)           (None, 4, 4, 16)          144       \n",
      "_________________________________________________________________\n",
      "conv2d_38 (Conv2D)           (None, 3, 3, 16)          1040      \n",
      "_________________________________________________________________\n",
      "flatten_24 (Flatten)         (None, 144)               0         \n",
      "_________________________________________________________________\n",
      "dense_29 (Dense)             (None, 4)                 580       \n",
      "=================================================================\n",
      "Total params: 1,764\n",
      "Trainable params: 1,764\n",
      "Non-trainable params: 0\n",
      "_________________________________________________________________\n",
      "Train on 1768 samples, validate on 443 samples\n",
      "Epoch 1/100\n",
      "1768/1768 [==============================] - 1s 754us/step - loss: 0.7847 - acc: 0.6900 - val_loss: 2.4275 - val_acc: 0.3679\n",
      "Epoch 2/100\n",
      "1768/1768 [==============================] - 0s 235us/step - loss: 0.3512 - acc: 0.8852 - val_loss: 2.8505 - val_acc: 0.2573\n",
      "Epoch 3/100\n",
      "1768/1768 [==============================] - 0s 220us/step - loss: 0.2432 - acc: 0.9259 - val_loss: 3.3439 - val_acc: 0.2754\n",
      "Epoch 4/100\n",
      "1768/1768 [==============================] - 0s 210us/step - loss: 0.1754 - acc: 0.9502 - val_loss: 3.9545 - val_acc: 0.3047\n",
      "Epoch 5/100\n",
      "1768/1768 [==============================] - 0s 230us/step - loss: 0.1371 - acc: 0.9581 - val_loss: 3.6094 - val_acc: 0.3183\n",
      "Epoch 6/100\n",
      "1768/1768 [==============================] - 0s 226us/step - loss: 0.1117 - acc: 0.9655 - val_loss: 3.1752 - val_acc: 0.3273\n"
     ]
    },
    {
     "data": {
      "image/png": "[encoded data removed]",
      "text/plain": [
       "<Figure size 432x288 with 1 Axes>"
      ]
     },
     "metadata": {
      "needs_background": "light"
     },
     "output_type": "display_data"
    },
    {
     "data": {
      "image/png": "[encoded data removed]",
      "text/plain": [
       "<Figure size 432x288 with 1 Axes>"
      ]
     },
     "metadata": {
      "needs_background": "light"
     },
     "output_type": "display_data"
    },
    {
     "name": "stdout",
     "output_type": "stream",
     "text": [
      "Win/lose count 6.0/0. Average score (3.0)\n",
      "Win/lose count 10.0/0. Average score (4.0)\n",
      "Win/lose count 5.5/0. Average score (3.5833333333333335)\n",
      "Win/lose count 7.5/0. Average score (3.625)\n",
      "Win/lose count 5.0/0. Average score (3.4)\n",
      "Win/lose count 7.0/0. Average score (3.4166666666666665)\n",
      "Win/lose count 7.5/0. Average score (3.4642857142857144)\n",
      "Win/lose count 9.5/0. Average score (3.625)\n",
      "Win/lose count 4.5/0. Average score (3.4722222222222223)\n",
      "Win/lose count 8.5/1.0. Average score (3.45)\n",
      "Win/lose count 10.5/1.0. Average score (3.522727272727273)\n",
      "Final score: 3.522727272727273\n"
     ]
    },
    {
     "data": {
      "text/html": [
       "<video alt=\"test\" controls>\n",
       "                <source src=\"data:video/mp4;base64,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\" type=\"video/mp4\" />\n",
       "             </video>"
      ],
      "text/plain": [
       "<IPython.core.display.HTML object>"
      ]
     },
     "execution_count": 89,
     "metadata": {},
     "output_type": "execute_result"
    }
   ],
   "source": [
    "agent_mimicker = Mimicker(n_state=2, n_action=4)\n",
    "agent_mimicker.learn(trajectories,epochs=100,batch_size=32,prefix='mimicker_train', viz=True)\n",
    "\n",
    "# Evaluation\n",
    "\n",
    "test(agent_mimicker,env,epochs_test,prefix='mimicker_test')\n",
    "HTML(display_videos('mimicker_test10.mp4'))"
   ]
  },
  {
   "cell_type": "code",
   "execution_count": 90,
   "metadata": {},
   "outputs": [
    {
     "name": "stdout",
     "output_type": "stream",
     "text": [
      "TEMPERATURE :  0.1\n",
      "Test of the Mimicker Agent\n",
      "Win/lose count 7.0/0. Average score (3.5)\n",
      "Win/lose count 7.0/0. Average score (3.5)\n",
      "Win/lose count 1.0/0. Average score (2.5)\n",
      "Win/lose count 1.0/0. Average score (2.0)\n",
      "Win/lose count 4.0/0. Average score (2.0)\n",
      "Win/lose count 3.5/0. Average score (1.9583333333333333)\n",
      "Win/lose count 2.5/0. Average score (1.8571428571428572)\n",
      "Win/lose count 1.0/0. Average score (1.6875)\n",
      "Win/lose count 1.0/0. Average score (1.5555555555555556)\n",
      "Win/lose count 3.5/0. Average score (1.575)\n",
      "Win/lose count 0.5/0. Average score (1.4545454545454546)\n",
      "Final score: 1.4545454545454546\n",
      "TEMPERATURE :  0.3\n",
      "Test of the Mimicker Agent\n",
      "Win/lose count 9.0/0. Average score (4.5)\n",
      "Win/lose count 8.0/0. Average score (4.25)\n",
      "Win/lose count 2.5/0. Average score (3.25)\n",
      "Win/lose count 3.0/0. Average score (2.8125)\n",
      "Win/lose count 4.0/0. Average score (2.65)\n",
      "Win/lose count 5.0/0. Average score (2.625)\n",
      "Win/lose count 5.5/0. Average score (2.642857142857143)\n",
      "Win/lose count 14.5/0. Average score (3.21875)\n",
      "Win/lose count 4.5/0. Average score (3.111111111111111)\n",
      "Win/lose count 5.0/0. Average score (3.05)\n",
      "Win/lose count 9.5/0. Average score (3.2045454545454546)\n",
      "Final score: 3.2045454545454546\n",
      "TEMPERATURE :  0.5\n",
      "Test of the Mimicker Agent\n",
      "Win/lose count 21.5/0. Average score (10.75)\n",
      "Win/lose count 23.0/0. Average score (11.125)\n",
      "Win/lose count 14.5/0. Average score (9.833333333333334)\n",
      "Win/lose count 30.5/0. Average score (11.1875)\n",
      "Win/lose count 22.5/1.0. Average score (11.0)\n",
      "Win/lose count 28.0/1.0. Average score (11.333333333333334)\n",
      "Win/lose count 29.0/1.0. Average score (11.642857142857142)\n",
      "Win/lose count 35.5/2.0. Average score (12.15625)\n",
      "Win/lose count 14.0/1.0. Average score (11.472222222222221)\n",
      "Win/lose count 21.5/2.0. Average score (11.2)\n",
      "Win/lose count 10.5/0. Average score (10.659090909090908)\n",
      "Final score: 10.659090909090908\n"
     ]
    }
   ],
   "source": [
    "# Comparison performances\n",
    "\n",
    "for temp in [0.1, 0.3, 0.5]:\n",
    "    print(\"TEMPERATURE : \", str(temp))\n",
    "    env = Environment(grid_size=size, max_time=T,temperature=temp)\n",
    "    \n",
    "    print('Test of the Mimicker Agent')\n",
    "    test(agent_mimicker,env,epochs_test)"
   ]
  },
  {
   "cell_type": "code",
   "execution_count": 94,
   "metadata": {},
   "outputs": [
    {
     "name": "stdout",
     "output_type": "stream",
     "text": [
      "Win/lose count 14.5/0. Average score (7.25)\n",
      "Win/lose count 7.5/0. Average score (5.5)\n",
      "Win/lose count 1.5/0. Average score (3.9166666666666665)\n",
      "Win/lose count 3.0/0. Average score (3.3125)\n",
      "Win/lose count 25.0/1.0. Average score (4.95)\n",
      "Win/lose count 16.0/1.0. Average score (5.291666666666667)\n",
      "Win/lose count 2.5/0. Average score (4.714285714285714)\n",
      "Win/lose count 20.0/4.0. Average score (4.875)\n",
      "Win/lose count 14.5/0. Average score (5.138888888888889)\n",
      "Win/lose count 15.0/0. Average score (5.375)\n",
      "Win/lose count 15.5/0. Average score (5.590909090909091)\n",
      "Final score: 5.590909090909091\n"
     ]
    }
   ],
   "source": [
    "env = EnvironmentExploring(grid_size=size, max_time=T,temperature=temperature)\n",
    "trajectories = test(agent_dqn_cnn_explore,env,epochs_test,prefix='cnn_test_explore', return_trajectories=True)"
   ]
  },
  {
   "cell_type": "code",
   "execution_count": 95,
   "metadata": {},
   "outputs": [
    {
     "name": "stdout",
     "output_type": "stream",
     "text": [
      "_________________________________________________________________\n",
      "Layer (type)                 Output Shape              Param #   \n",
      "=================================================================\n",
      "conv2d_41 (Conv2D)           (None, 4, 4, 16)          208       \n",
      "_________________________________________________________________\n",
      "conv2d_42 (Conv2D)           (None, 3, 3, 16)          1040      \n",
      "_________________________________________________________________\n",
      "flatten_26 (Flatten)         (None, 144)               0         \n",
      "_________________________________________________________________\n",
      "dense_31 (Dense)             (None, 4)                 580       \n",
      "=================================================================\n",
      "Total params: 1,828\n",
      "Trainable params: 1,828\n",
      "Non-trainable params: 0\n",
      "_________________________________________________________________\n",
      "Train on 1768 samples, validate on 443 samples\n",
      "Epoch 1/100\n",
      "1768/1768 [==============================] - 1s 781us/step - loss: 0.7358 - acc: 0.7206 - val_loss: 1.1645 - val_acc: 0.5124\n",
      "Epoch 2/100\n",
      "1768/1768 [==============================] - 0s 176us/step - loss: 0.3616 - acc: 0.8773 - val_loss: 1.7259 - val_acc: 0.3070\n",
      "Epoch 3/100\n",
      "1768/1768 [==============================] - 0s 204us/step - loss: 0.2493 - acc: 0.9146 - val_loss: 1.7333 - val_acc: 0.5801\n",
      "Epoch 4/100\n",
      "1768/1768 [==============================] - 0s 202us/step - loss: 0.1846 - acc: 0.9333 - val_loss: 2.1250 - val_acc: 0.5711\n",
      "Epoch 5/100\n",
      "1768/1768 [==============================] - 0s 193us/step - loss: 0.1704 - acc: 0.9378 - val_loss: 1.4975 - val_acc: 0.6005\n",
      "Epoch 6/100\n",
      "1768/1768 [==============================] - 0s 195us/step - loss: 0.1224 - acc: 0.9610 - val_loss: 2.2058 - val_acc: 0.4718\n"
     ]
    },
    {
     "data": {
      "image/png": "[encoded data removed]",
      "text/plain": [
       "<Figure size 432x288 with 1 Axes>"
      ]
     },
     "metadata": {
      "needs_background": "light"
     },
     "output_type": "display_data"
    },
    {
     "data": {
      "image/png": "[encoded data removed]",
      "text/plain": [
       "<Figure size 432x288 with 1 Axes>"
      ]
     },
     "metadata": {
      "needs_background": "light"
     },
     "output_type": "display_data"
    },
    {
     "name": "stdout",
     "output_type": "stream",
     "text": [
      "Win/lose count 7.0/0. Average score (3.5)\n",
      "Win/lose count 1.5/0. Average score (2.125)\n",
      "Win/lose count 16.0/2.0. Average score (3.4166666666666665)\n",
      "Win/lose count 7.5/1.0. Average score (3.25)\n",
      "Win/lose count 8.0/0. Average score (3.4)\n",
      "Win/lose count 10.0/2.0. Average score (3.3333333333333335)\n",
      "Win/lose count 17.0/0. Average score (4.071428571428571)\n",
      "Win/lose count 3.0/0. Average score (3.75)\n",
      "Win/lose count 9.0/0. Average score (3.8333333333333335)\n",
      "Win/lose count 8.5/0. Average score (3.875)\n",
      "Win/lose count 6.5/0. Average score (3.8181818181818183)\n",
      "Final score: 3.8181818181818183\n",
      "TEMPERATURE :  0.1\n",
      "Test of the Mimicker Agent\n",
      "Win/lose count 2.0/0. Average score (1.0)\n",
      "Win/lose count 7.0/0. Average score (2.25)\n",
      "Win/lose count 7.5/0. Average score (2.75)\n",
      "Win/lose count 6.5/0. Average score (2.875)\n",
      "Win/lose count 7.0/0. Average score (3.0)\n",
      "Win/lose count 9.5/1.0. Average score (3.125)\n",
      "Win/lose count 5.5/0. Average score (3.0714285714285716)\n",
      "Win/lose count 5.0/0. Average score (3.0)\n",
      "Win/lose count 9.0/0. Average score (3.1666666666666665)\n",
      "Win/lose count 2.0/0. Average score (2.95)\n",
      "Win/lose count 5.5/0. Average score (2.9318181818181817)\n",
      "Final score: 2.9318181818181817\n",
      "TEMPERATURE :  0.3\n",
      "Test of the Mimicker Agent\n",
      "Win/lose count 17.5/0. Average score (8.75)\n",
      "Win/lose count 8.5/1.0. Average score (6.0)\n",
      "Win/lose count 3.5/1.0. Average score (4.25)\n",
      "Win/lose count 16.5/3.0. Average score (4.5)\n",
      "Win/lose count 2.0/0. Average score (3.8)\n",
      "Win/lose count 2.5/0. Average score (3.375)\n",
      "Win/lose count 24.0/2.0. Average score (4.321428571428571)\n",
      "Win/lose count 17.5/2.0. Average score (4.625)\n",
      "Win/lose count 8.0/0. Average score (4.555555555555555)\n",
      "Win/lose count 1.0/0. Average score (4.15)\n",
      "Win/lose count 1.0/0. Average score (3.8181818181818183)\n",
      "Final score: 3.8181818181818183\n",
      "TEMPERATURE :  0.5\n",
      "Test of the Mimicker Agent\n",
      "Win/lose count 8.5/0. Average score (4.25)\n",
      "Win/lose count 5.0/0. Average score (3.375)\n",
      "Win/lose count 23.5/3.0. Average score (5.166666666666667)\n",
      "Win/lose count 21.5/1.0. Average score (6.3125)\n",
      "Win/lose count 8.5/1.0. Average score (5.7)\n",
      "Win/lose count 1.5/0. Average score (4.875)\n",
      "Win/lose count 9.0/1.0. Average score (4.678571428571429)\n",
      "Win/lose count 2.5/0. Average score (4.25)\n",
      "Win/lose count 6.0/1.0. Average score (4.0)\n",
      "Win/lose count 6.0/0. Average score (3.9)\n",
      "Win/lose count 17.5/3.0. Average score (4.068181818181818)\n",
      "Final score: 4.068181818181818\n"
     ]
    }
   ],
   "source": [
    "agent_mimicker = Mimicker(n_state=3, n_action=4)\n",
    "\n",
    "agent_mimicker.learn(trajectories,epochs=100,batch_size=32,prefix='mimicker_train', viz=True)\n",
    "\n",
    "# Evaluation\n",
    "\n",
    "test(agent_mimicker,env,epochs_test,prefix='mimicker_test')\n",
    "HTML(display_videos('mimicker_test10.mp4'))\n",
    "\n",
    "# Comparison performances\n",
    "\n",
    "for temp in [0.1,0.3,0.5]:\n",
    "    print(\"TEMPERATURE : \", str(temp))\n",
    "    env = EnvironmentExploring(grid_size=size, max_time=T,temperature=temp)\n",
    "    \n",
    "    print('Test of the Mimicker Agent')\n",
    "    test(agent_mimicker,env,epochs_test)"
   ]
  }
 ],
 "metadata": {
  "kernelspec": {
   "display_name": "Python 3",
   "language": "python",
   "name": "python3"
  },
  "language_info": {
   "codemirror_mode": {
    "name": "ipython",
    "version": 3
   },
   "file_extension": ".py",
   "mimetype": "text/x-python",
   "name": "python",
   "nbconvert_exporter": "python",
   "pygments_lexer": "ipython3",
   "version": "3.5.2"
  }
 },
 "nbformat": 4,
 "nbformat_minor": 2
}
